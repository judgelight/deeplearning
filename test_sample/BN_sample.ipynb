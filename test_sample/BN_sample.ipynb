{
 "cells": [
  {
   "cell_type": "code",
   "execution_count": 1,
   "metadata": {},
   "outputs": [
    {
     "name": "stdout",
     "output_type": "stream",
     "text": [
      "2.0.0\n"
     ]
    }
   ],
   "source": [
    "import tensorflow as tf\n",
    "import numpy as np\n",
    "import os\n",
    "print(tf.__version__)"
   ]
  },
  {
   "cell_type": "code",
   "execution_count": 2,
   "metadata": {},
   "outputs": [],
   "source": [
    "class MNISTLoader():\n",
    "    def __init__(self):\n",
    "        mnist = tf.keras.datasets.mnist\n",
    "        (self.train_data, self.train_label), (self.test_data, self.test_label) = mnist.load_data()\n",
    "        # MNIST中的图像默认为uint8（0-255的数字）。以下代码将其归一化到0-1之间的浮点数，并在最后增加一维作为颜色通道\n",
    "        self.train_data = np.expand_dims(self.train_data.astype(np.float32) / 255.0, axis=-1)   #[60000, 28, 28, 1]\n",
    "        self.test_data = np.expand_dims(self.test_data.astype(np.float32) / 255.0, axis=-1)   #[10000, 28, 28, 1]\n",
    "        self.train_label = self.train_label.astype(np.int32)  #[60000]\n",
    "        self.test_label = self.test_label.astype(np.int32)   #[10000]\n",
    "        self.num_train_data, self.num_test_data = self.train_data.shape[0], self.test_data.shape[0]\n",
    "\n",
    "    def get_batch(self, batch_size):\n",
    "        # 从数据集中随机取出batch_size个元素并返回\n",
    "        index = np.random.randint(0, np.shape(self.train_data)[0], size=batch_size)\n",
    "        return self.train_data[index, :], self.train_label[index]\n",
    "\n",
    "class MLP(tf.keras.Model):\n",
    "    def __init__(self):\n",
    "        super().__init__()\n",
    "        self.flatten = tf.keras.layers.Flatten()\n",
    "        self.dense1 = tf.keras.layers.Dense(units=200, activation=tf.nn.relu, kernel_regularizer=tf.keras.regularizers.l2(l=0.01))\n",
    "        self.bn = tf.keras.layers.BatchNormalization()\n",
    "        self.dense2 = tf.keras.layers.Dense(units=10, activation=tf.nn.softmax)\n",
    "  \n",
    "    def call(self, inputs, training=None):\n",
    "        x = self.flatten(inputs)\n",
    "        x = self.dense1(x)\n",
    "        x = self.bn(x, training=training)\n",
    "        output = self.dense2(x)\n",
    "        return output\n",
    "\n",
    "num_epochs = 5\n",
    "batch_size = 128\n",
    "learning_rate = 0.001\n",
    "\n",
    "def train():\n",
    "    return model.fit(\n",
    "         train_dataset,\n",
    "         epochs=num_epochs,\n",
    "         verbose=1,\n",
    "         validation_data=test_dataset,\n",
    "         callbacks=[cp_callback_mc]\n",
    "         #callbacks=[cp_callback_mc, tensorboard_callback]\n",
    "         )\n",
    "\n",
    "def train_generator():\n",
    "    datagen = tf.keras.preprocessing.image.ImageDataGenerator(\n",
    "        #featurewise_center=True,  # 数据集去中心化\n",
    "        rotation_range=20,        # 旋转角度范围\n",
    "        width_shift_range=0.1,    # 水平位置平移\n",
    "        height_shift_range=0.1   # 上下位置平移\n",
    "        #horizontal_flip=True     # 随机水平翻转\n",
    "        )    \n",
    "    datagen.fit(data_loader.train_data)\n",
    "\n",
    "    model.fit_generator(\n",
    "         datagen.flow(data_loader.train_data, data_loader.train_label, batch_size=batch_size),\n",
    "         steps_per_epoch=len(data_loader.train_data) / batch_size,\n",
    "         epochs=num_epochs,\n",
    "         verbose=1,\n",
    "         validation_data=test_dataset,\n",
    "         callbacks=[cp_callback_mc]\n",
    "         )\n",
    "\n",
    "def test():\n",
    "    loss_and_metrics = model.evaluate(test_dataset)\n",
    "    print(loss_and_metrics)\n",
    "\n",
    "#def predict():\n",
    "    #classes = model.predict(x_test, batch_size=128)"
   ]
  },
  {
   "cell_type": "code",
   "execution_count": 3,
   "metadata": {},
   "outputs": [],
   "source": [
    "if __name__ == '__main__':\n",
    "    checkpoint_path = \"training_bn_sample_1/cp-{epoch:04d}.ckpt\"\n",
    "    checkpoint_dir = os.path.dirname(checkpoint_path)\n",
    "\n",
    "    model = MLP()\n",
    "    model.compile(optimizer=tf.keras.optimizers.Adam(learning_rate=learning_rate),\n",
    "                    loss=tf.keras.losses.sparse_categorical_crossentropy,\n",
    "                    metrics=[tf.keras.metrics.sparse_categorical_accuracy])\n",
    "    \n",
    "    data_loader = MNISTLoader()\n",
    "    train_dataset = tf.data.Dataset.from_tensor_slices((data_loader.train_data, data_loader.train_label))\n",
    "    train_dataset = train_dataset.shuffle(buffer_size=23000)\n",
    "    train_dataset = train_dataset.batch(batch_size)\n",
    "    train_dataset = train_dataset.prefetch(tf.data.experimental.AUTOTUNE)\n",
    "    test_dataset = tf.data.Dataset.from_tensor_slices((data_loader.test_data, data_loader.test_label))\n",
    "    test_dataset = test_dataset.shuffle(buffer_size=23000)\n",
    "    test_dataset = test_dataset.batch(batch_size)\n",
    "    test_dataset = test_dataset.prefetch(tf.data.experimental.AUTOTUNE)\n",
    "    \n",
    "    cp_callback_mc = tf.keras.callbacks.ModelCheckpoint(filepath=checkpoint_path,\n",
    "                                                        save_weights_only=True,\n",
    "                                                        verbose=0)\n",
    "    latest = tf.train.latest_checkpoint(checkpoint_dir)\n",
    "    if(latest != None):\n",
    "        model.load_weights(latest) \n",
    "\n",
    "    #log_dir = \"./tensorboard\"\n",
    "    #tensorboard_callback = tf.keras.callbacks.TensorBoard(log_dir=log_dir, histogram_freq=1)"
   ]
  },
  {
   "cell_type": "code",
   "execution_count": 4,
   "metadata": {},
   "outputs": [
    {
     "name": "stdout",
     "output_type": "stream",
     "text": [
      "Epoch 1/5\n",
      "469/469 [==============================] - 4s 8ms/step - loss: 0.1892 - sparse_categorical_accuracy: 0.9680 - val_loss: 0.0000e+00 - val_sparse_categorical_accuracy: 0.0000e+00\n",
      "Epoch 2/5\n",
      "469/469 [==============================] - 2s 4ms/step - loss: 0.1882 - sparse_categorical_accuracy: 0.9674 - val_loss: 0.1990 - val_sparse_categorical_accuracy: 0.9654\n",
      "Epoch 3/5\n",
      "469/469 [==============================] - 2s 4ms/step - loss: 0.1851 - sparse_categorical_accuracy: 0.9688 - val_loss: 0.1918 - val_sparse_categorical_accuracy: 0.9649\n",
      "Epoch 4/5\n",
      "469/469 [==============================] - 2s 4ms/step - loss: 0.1869 - sparse_categorical_accuracy: 0.9683 - val_loss: 0.2606 - val_sparse_categorical_accuracy: 0.9437\n",
      "Epoch 5/5\n",
      "469/469 [==============================] - 2s 4ms/step - loss: 0.1845 - sparse_categorical_accuracy: 0.9682 - val_loss: 0.2241 - val_sparse_categorical_accuracy: 0.9587\n"
     ]
    }
   ],
   "source": [
    "    history = train()"
   ]
  },
  {
   "cell_type": "code",
   "execution_count": 10,
   "metadata": {},
   "outputs": [
    {
     "data": {
      "image/png": "[encoded data removed]",
      "text/plain": [
       "<Figure size 576x360 with 1 Axes>"
      ]
     },
     "metadata": {
      "needs_background": "light"
     },
     "output_type": "display_data"
    },
    {
     "data": {
      "image/png": "[encoded data removed]",
      "text/plain": [
       "<Figure size 576x360 with 1 Axes>"
      ]
     },
     "metadata": {
      "needs_background": "light"
     },
     "output_type": "display_data"
    }
   ],
   "source": [
    "from custom_api import img_show\n",
    "%matplotlib inline\n",
    "\n",
    "img_show.plot_learning_curves_acc(history,0.8,1)\n",
    "img_show.plot_learning_curves_loss(history,0.1,0.3)"
   ]
  },
  {
   "cell_type": "code",
   "execution_count": 19,
   "metadata": {},
   "outputs": [
    {
     "name": "stdout",
     "output_type": "stream",
     "text": [
      "Model: \"mlp_1\"\n",
      "_________________________________________________________________\n",
      "Layer (type)                 Output Shape              Param #   \n",
      "=================================================================\n",
      "flatten_1 (Flatten)          multiple                  0         \n",
      "_________________________________________________________________\n",
      "dense (Dense)                multiple                  157000    \n",
      "_________________________________________________________________\n",
      "batch_normalization (BatchNo multiple                  800       \n",
      "_________________________________________________________________\n",
      "dense_1 (Dense)              multiple                  2010      \n",
      "=================================================================\n",
      "Total params: 159,810\n",
      "Trainable params: 159,410\n",
      "Non-trainable params: 400\n",
      "_________________________________________________________________\n"
     ]
    }
   ],
   "source": [
    "    model.summary()"
   ]
  },
  {
   "cell_type": "code",
   "execution_count": 12,
   "metadata": {},
   "outputs": [
    {
     "name": "stdout",
     "output_type": "stream",
     "text": [
      "79/79 [==============================] - 0s 2ms/step - loss: 0.2460 - sparse_categorical_accuracy: 0.9641\n",
      "[0.24599757715116574, 0.9641]\n"
     ]
    }
   ],
   "source": [
    "    test()"
   ]
  },
  {
   "cell_type": "code",
   "execution_count": 24,
   "metadata": {},
   "outputs": [
    {
     "name": "stdout",
     "output_type": "stream",
     "text": [
      "Epoch 1/50\n",
      "469/468 [==============================] - 19s 40ms/step - loss: 0.3965 - sparse_categorical_accuracy: 0.9142 - val_loss: 0.2730 - val_sparse_categorical_accuracy: 0.9499\n",
      "Epoch 2/50\n",
      "469/468 [==============================] - 19s 40ms/step - loss: 0.3915 - sparse_categorical_accuracy: 0.9151 - val_loss: 0.2580 - val_sparse_categorical_accuracy: 0.9506\n",
      "Epoch 3/50\n",
      "469/468 [==============================] - 20s 42ms/step - loss: 0.3985 - sparse_categorical_accuracy: 0.9127 - val_loss: 0.2928 - val_sparse_categorical_accuracy: 0.9455\n",
      "Epoch 4/50\n",
      "469/468 [==============================] - 19s 41ms/step - loss: 0.3959 - sparse_categorical_accuracy: 0.9123 - val_loss: 0.2893 - val_sparse_categorical_accuracy: 0.9416\n",
      "Epoch 5/50\n",
      "469/468 [==============================] - 19s 40ms/step - loss: 0.3977 - sparse_categorical_accuracy: 0.9134 - val_loss: 0.2370 - val_sparse_categorical_accuracy: 0.9625\n",
      "Epoch 6/50\n",
      "469/468 [==============================] - 19s 40ms/step - loss: 0.3912 - sparse_categorical_accuracy: 0.9138 - val_loss: 0.2827 - val_sparse_categorical_accuracy: 0.9474\n",
      "Epoch 7/50\n",
      "469/468 [==============================] - 19s 40ms/step - loss: 0.3950 - sparse_categorical_accuracy: 0.9132 - val_loss: 0.3094 - val_sparse_categorical_accuracy: 0.9378\n",
      "Epoch 8/50\n",
      "469/468 [==============================] - 18s 39ms/step - loss: 0.3941 - sparse_categorical_accuracy: 0.9132 - val_loss: 0.2647 - val_sparse_categorical_accuracy: 0.9547\n",
      "Epoch 9/50\n",
      "469/468 [==============================] - 19s 41ms/step - loss: 0.3924 - sparse_categorical_accuracy: 0.9147 - val_loss: 0.2486 - val_sparse_categorical_accuracy: 0.9597\n",
      "Epoch 10/50\n",
      "469/468 [==============================] - 18s 39ms/step - loss: 0.3897 - sparse_categorical_accuracy: 0.9158 - val_loss: 0.2637 - val_sparse_categorical_accuracy: 0.9557\n",
      "Epoch 11/50\n",
      "469/468 [==============================] - 19s 40ms/step - loss: 0.3930 - sparse_categorical_accuracy: 0.9131 - val_loss: 0.2866 - val_sparse_categorical_accuracy: 0.9442\n",
      "Epoch 12/50\n",
      "469/468 [==============================] - 19s 40ms/step - loss: 0.3930 - sparse_categorical_accuracy: 0.9153 - val_loss: 0.2845 - val_sparse_categorical_accuracy: 0.9453\n",
      "Epoch 13/50\n",
      "469/468 [==============================] - 18s 39ms/step - loss: 0.3922 - sparse_categorical_accuracy: 0.9142 - val_loss: 0.3242 - val_sparse_categorical_accuracy: 0.9349\n",
      "Epoch 14/50\n",
      "469/468 [==============================] - 19s 40ms/step - loss: 0.3968 - sparse_categorical_accuracy: 0.9126 - val_loss: 0.2866 - val_sparse_categorical_accuracy: 0.9444\n",
      "Epoch 15/50\n",
      "469/468 [==============================] - 18s 39ms/step - loss: 0.3927 - sparse_categorical_accuracy: 0.9143 - val_loss: 0.2761 - val_sparse_categorical_accuracy: 0.9497\n",
      "Epoch 16/50\n",
      "469/468 [==============================] - 18s 39ms/step - loss: 0.3942 - sparse_categorical_accuracy: 0.9132 - val_loss: 0.2804 - val_sparse_categorical_accuracy: 0.9467\n",
      "Epoch 17/50\n",
      "469/468 [==============================] - 19s 41ms/step - loss: 0.3933 - sparse_categorical_accuracy: 0.9140 - val_loss: 0.2510 - val_sparse_categorical_accuracy: 0.9553\n",
      "Epoch 18/50\n",
      "469/468 [==============================] - 19s 41ms/step - loss: 0.3929 - sparse_categorical_accuracy: 0.9132 - val_loss: 0.2835 - val_sparse_categorical_accuracy: 0.9468\n",
      "Epoch 19/50\n",
      "469/468 [==============================] - 19s 41ms/step - loss: 0.3941 - sparse_categorical_accuracy: 0.9132 - val_loss: 0.2793 - val_sparse_categorical_accuracy: 0.9488\n",
      "Epoch 20/50\n",
      "469/468 [==============================] - 19s 41ms/step - loss: 0.3894 - sparse_categorical_accuracy: 0.9148 - val_loss: 0.2513 - val_sparse_categorical_accuracy: 0.9584\n",
      "Epoch 21/50\n",
      "469/468 [==============================] - 20s 44ms/step - loss: 0.3923 - sparse_categorical_accuracy: 0.9130 - val_loss: 0.2680 - val_sparse_categorical_accuracy: 0.9508\n",
      "Epoch 22/50\n",
      "469/468 [==============================] - 18s 39ms/step - loss: 0.3960 - sparse_categorical_accuracy: 0.9131 - val_loss: 0.2998 - val_sparse_categorical_accuracy: 0.9402\n",
      "Epoch 23/50\n",
      "469/468 [==============================] - 19s 40ms/step - loss: 0.3932 - sparse_categorical_accuracy: 0.9128 - val_loss: 0.2523 - val_sparse_categorical_accuracy: 0.9560\n",
      "Epoch 24/50\n",
      "469/468 [==============================] - 19s 40ms/step - loss: 0.3930 - sparse_categorical_accuracy: 0.9132 - val_loss: 0.2801 - val_sparse_categorical_accuracy: 0.9474\n",
      "Epoch 25/50\n",
      "469/468 [==============================] - 19s 40ms/step - loss: 0.3880 - sparse_categorical_accuracy: 0.9162 - val_loss: 0.2604 - val_sparse_categorical_accuracy: 0.9509\n",
      "Epoch 26/50\n",
      "469/468 [==============================] - 19s 41ms/step - loss: 0.3947 - sparse_categorical_accuracy: 0.9125 - val_loss: 0.2872 - val_sparse_categorical_accuracy: 0.9428\n",
      "Epoch 27/50\n",
      "469/468 [==============================] - 18s 39ms/step - loss: 0.3933 - sparse_categorical_accuracy: 0.9139 - val_loss: 0.2869 - val_sparse_categorical_accuracy: 0.9466\n",
      "Epoch 28/50\n",
      "469/468 [==============================] - 19s 41ms/step - loss: 0.3954 - sparse_categorical_accuracy: 0.9140 - val_loss: 0.2817 - val_sparse_categorical_accuracy: 0.9463\n",
      "Epoch 29/50\n",
      "469/468 [==============================] - 19s 40ms/step - loss: 0.3961 - sparse_categorical_accuracy: 0.9132 - val_loss: 0.2752 - val_sparse_categorical_accuracy: 0.9495\n",
      "Epoch 30/50\n",
      "469/468 [==============================] - 19s 41ms/step - loss: 0.3901 - sparse_categorical_accuracy: 0.9156 - val_loss: 0.3026 - val_sparse_categorical_accuracy: 0.9398\n",
      "Epoch 31/50\n",
      "469/468 [==============================] - 19s 40ms/step - loss: 0.3941 - sparse_categorical_accuracy: 0.9119 - val_loss: 0.2579 - val_sparse_categorical_accuracy: 0.9555\n",
      "Epoch 32/50\n",
      "469/468 [==============================] - 18s 39ms/step - loss: 0.3904 - sparse_categorical_accuracy: 0.9141 - val_loss: 0.2618 - val_sparse_categorical_accuracy: 0.9522\n",
      "Epoch 33/50\n",
      "469/468 [==============================] - 19s 40ms/step - loss: 0.3899 - sparse_categorical_accuracy: 0.9152 - val_loss: 0.2661 - val_sparse_categorical_accuracy: 0.9501\n",
      "Epoch 34/50\n",
      "469/468 [==============================] - 18s 39ms/step - loss: 0.3969 - sparse_categorical_accuracy: 0.9132 - val_loss: 0.2590 - val_sparse_categorical_accuracy: 0.9567\n",
      "Epoch 35/50\n",
      "469/468 [==============================] - 19s 40ms/step - loss: 0.3910 - sparse_categorical_accuracy: 0.9144 - val_loss: 0.2597 - val_sparse_categorical_accuracy: 0.9542\n",
      "Epoch 36/50\n",
      "469/468 [==============================] - 19s 40ms/step - loss: 0.3948 - sparse_categorical_accuracy: 0.9141 - val_loss: 0.2536 - val_sparse_categorical_accuracy: 0.9546\n",
      "Epoch 37/50\n",
      "469/468 [==============================] - 19s 40ms/step - loss: 0.3913 - sparse_categorical_accuracy: 0.9145 - val_loss: 0.2610 - val_sparse_categorical_accuracy: 0.9541\n",
      "Epoch 38/50\n",
      "469/468 [==============================] - 18s 39ms/step - loss: 0.3921 - sparse_categorical_accuracy: 0.9126 - val_loss: 0.2677 - val_sparse_categorical_accuracy: 0.9514\n",
      "Epoch 39/50\n",
      "469/468 [==============================] - 19s 41ms/step - loss: 0.3948 - sparse_categorical_accuracy: 0.9127 - val_loss: 0.2719 - val_sparse_categorical_accuracy: 0.9516\n",
      "Epoch 40/50\n",
      "469/468 [==============================] - 19s 41ms/step - loss: 0.3992 - sparse_categorical_accuracy: 0.9125 - val_loss: 0.2695 - val_sparse_categorical_accuracy: 0.9505\n",
      "Epoch 41/50\n",
      "469/468 [==============================] - 19s 41ms/step - loss: 0.3943 - sparse_categorical_accuracy: 0.9152 - val_loss: 0.2726 - val_sparse_categorical_accuracy: 0.9478\n",
      "Epoch 42/50\n",
      "469/468 [==============================] - 19s 41ms/step - loss: 0.3947 - sparse_categorical_accuracy: 0.9122 - val_loss: 0.2497 - val_sparse_categorical_accuracy: 0.9570\n",
      "Epoch 43/50\n",
      "469/468 [==============================] - 19s 41ms/step - loss: 0.3948 - sparse_categorical_accuracy: 0.9144 - val_loss: 0.2816 - val_sparse_categorical_accuracy: 0.9498\n",
      "Epoch 44/50\n",
      "469/468 [==============================] - 19s 40ms/step - loss: 0.3908 - sparse_categorical_accuracy: 0.9152 - val_loss: 0.2690 - val_sparse_categorical_accuracy: 0.9481\n",
      "Epoch 45/50\n",
      "469/468 [==============================] - 18s 39ms/step - loss: 0.3982 - sparse_categorical_accuracy: 0.9123 - val_loss: 0.2678 - val_sparse_categorical_accuracy: 0.9486\n"
     ]
    },
    {
     "name": "stdout",
     "output_type": "stream",
     "text": [
      "Epoch 46/50\n",
      "469/468 [==============================] - 19s 40ms/step - loss: 0.3918 - sparse_categorical_accuracy: 0.9138 - val_loss: 0.2564 - val_sparse_categorical_accuracy: 0.9561\n",
      "Epoch 47/50\n",
      "469/468 [==============================] - 18s 39ms/step - loss: 0.3943 - sparse_categorical_accuracy: 0.9128 - val_loss: 0.2687 - val_sparse_categorical_accuracy: 0.9502\n",
      "Epoch 48/50\n",
      "469/468 [==============================] - 18s 39ms/step - loss: 0.3930 - sparse_categorical_accuracy: 0.9133 - val_loss: 0.2787 - val_sparse_categorical_accuracy: 0.9462\n",
      "Epoch 49/50\n",
      "469/468 [==============================] - 20s 43ms/step - loss: 0.3920 - sparse_categorical_accuracy: 0.9145 - val_loss: 0.2974 - val_sparse_categorical_accuracy: 0.9391\n",
      "Epoch 50/50\n",
      "469/468 [==============================] - 20s 43ms/step - loss: 0.3893 - sparse_categorical_accuracy: 0.9145 - val_loss: 0.2787 - val_sparse_categorical_accuracy: 0.9469\n"
     ]
    }
   ],
   "source": [
    "    train_generator()"
   ]
  },
  {
   "cell_type": "code",
   "execution_count": 85,
   "metadata": {},
   "outputs": [
    {
     "name": "stdout",
     "output_type": "stream",
     "text": [
      "(2, 2)\n"
     ]
    }
   ],
   "source": []
  },
  {
   "cell_type": "code",
   "execution_count": null,
   "metadata": {},
   "outputs": [],
   "source": []
  }
 ],
 "metadata": {
  "kernelspec": {
   "display_name": "Python 3",
   "language": "python",
   "name": "python3"
  },
  "language_info": {
   "codemirror_mode": {
    "name": "ipython",
    "version": 3
   },
   "file_extension": ".py",
   "mimetype": "text/x-python",
   "name": "python",
   "nbconvert_exporter": "python",
   "pygments_lexer": "ipython3",
   "version": "3.7.5"
  }
 },
 "nbformat": 4,
 "nbformat_minor": 2
}

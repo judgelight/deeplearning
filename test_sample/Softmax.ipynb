{
 "cells": [
  {
   "cell_type": "code",
   "execution_count": 2,
   "metadata": {},
   "outputs": [
    {
     "name": "stdout",
     "output_type": "stream",
     "text": [
      "0.95002734272383 0.047299076263531435 0.00235488234366925 0.0003186986689693763\n"
     ]
    }
   ],
   "source": [
    "# -*- coding: utf-8 -*-\n",
    "import math\n",
    " \n",
    "V = [9,6,3,1]\n",
    " \n",
    "v1 = math.exp(9)\n",
    "v2 = math.exp(6)\n",
    "v3 = math.exp(3)\n",
    "v4 = math.exp(1)\n",
    " \n",
    "v_sum = v1+v2+v3+v4\n",
    " \n",
    "print(v1/v_sum,v2/v_sum,v3/v_sum,v4/v_sum)\n"
   ]
  },
  {
   "cell_type": "code",
   "execution_count": null,
   "metadata": {},
   "outputs": [],
   "source": []
  }
 ],
 "metadata": {
  "kernelspec": {
   "display_name": "Python 3",
   "language": "python",
   "name": "python3"
  },
  "language_info": {
   "codemirror_mode": {
    "name": "ipython",
    "version": 3
   },
   "file_extension": ".py",
   "mimetype": "text/x-python",
   "name": "python",
   "nbconvert_exporter": "python",
   "pygments_lexer": "ipython3",
   "version": "3.7.5"
  }
 },
 "nbformat": 4,
 "nbformat_minor": 2
}

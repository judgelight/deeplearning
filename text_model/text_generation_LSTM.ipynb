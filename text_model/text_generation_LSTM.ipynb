{
 "cells": [
  {
   "cell_type": "code",
   "execution_count": 1,
   "metadata": {
    "colab": {
     "base_uri": "https://localhost:8080/",
     "height": 34
    },
    "colab_type": "code",
    "id": "9USFNVeqaAxO",
    "outputId": "5d3344a4-a2ee-4e60-b7f8-fbe83b4a3b79"
   },
   "outputs": [],
   "source": [
    "from __future__ import absolute_import, division, print_function, unicode_literals\n",
    "\n",
    "# Install TensorFlow\n",
    "try:\n",
    "  # %tensorflow_version only exists in Colab.\n",
    "  %tensorflow_version 2.x\n",
    "except Exception:\n",
    "  pass\n",
    "\n",
    "import tensorflow as tf\n",
    "import matplotlib.pylab as plt\n",
    "import numpy as np\n",
    "import tensorflow.keras as keras\n",
    "import os"
   ]
  },
  {
   "cell_type": "code",
   "execution_count": 4,
   "metadata": {
    "colab": {
     "base_uri": "https://localhost:8080/",
     "height": 170
    },
    "colab_type": "code",
    "id": "Kxk6MHEaaAxT",
    "outputId": "78ef661f-0c5d-4326-dff9-771ea93c2698"
   },
   "outputs": [
    {
     "name": "stdout",
     "output_type": "stream",
     "text": [
      "1115394\n",
      "First Citizen:\n",
      "Before we proceed any further, hear me speak.\n",
      "\n",
      "All:\n",
      "Speak, speak.\n",
      "\n",
      "First Citizen:\n",
      "You\n"
     ]
    }
   ],
   "source": [
    "# https://storage.googleapis.com/download.tensorflow.org/data/shakespeare.txt\n",
    "input_filepath = \"./shakespeare.txt\"\n",
    "text = open(input_filepath, 'r').read()\n",
    "\n",
    "print(len(text))\n",
    "print(text[0:100])"
   ]
  },
  {
   "cell_type": "markdown",
   "metadata": {
    "colab_type": "text",
    "id": "4MCu7msfaAxX"
   },
   "source": [
    "步骤：  \n",
    "1. 生成词表\n",
    "2. 建立映射 char -> id\n",
    "3. 数据转成id data -> id\n",
    "4. 定义输入输出 abcd -> bcd<eos>"
   ]
  },
  {
   "cell_type": "code",
   "execution_count": 5,
   "metadata": {
    "colab": {
     "base_uri": "https://localhost:8080/",
     "height": 71
    },
    "colab_type": "code",
    "id": "pnOMB7J2aAxY",
    "outputId": "e6c0cb0b-3c0f-4372-a6a8-89e58a89c9c7"
   },
   "outputs": [
    {
     "name": "stdout",
     "output_type": "stream",
     "text": [
      "65\n",
      "['\\n', ' ', '!', '$', '&', \"'\", ',', '-', '.', '3', ':', ';', '?', 'A', 'B', 'C', 'D', 'E', 'F', 'G', 'H', 'I', 'J', 'K', 'L', 'M', 'N', 'O', 'P', 'Q', 'R', 'S', 'T', 'U', 'V', 'W', 'X', 'Y', 'Z', 'a', 'b', 'c', 'd', 'e', 'f', 'g', 'h', 'i', 'j', 'k', 'l', 'm', 'n', 'o', 'p', 'q', 'r', 's', 't', 'u', 'v', 'w', 'x', 'y', 'z']\n"
     ]
    }
   ],
   "source": [
    "# 建立词表\n",
    "vocab = sorted(set(text))    # 建立一个无序不重复元素序列 set(), 并排序 sorted()\n",
    "print(len(vocab))\n",
    "print(vocab)"
   ]
  },
  {
   "cell_type": "code",
   "execution_count": 6,
   "metadata": {
    "colab": {
     "base_uri": "https://localhost:8080/",
     "height": 54
    },
    "colab_type": "code",
    "id": "gS9G8aTCaAxb",
    "outputId": "7dbb0627-2d8f-4f3a-e857-51113d1c85bf"
   },
   "outputs": [
    {
     "name": "stdout",
     "output_type": "stream",
     "text": [
      "{'\\n': 0, ' ': 1, '!': 2, '$': 3, '&': 4, \"'\": 5, ',': 6, '-': 7, '.': 8, '3': 9, ':': 10, ';': 11, '?': 12, 'A': 13, 'B': 14, 'C': 15, 'D': 16, 'E': 17, 'F': 18, 'G': 19, 'H': 20, 'I': 21, 'J': 22, 'K': 23, 'L': 24, 'M': 25, 'N': 26, 'O': 27, 'P': 28, 'Q': 29, 'R': 30, 'S': 31, 'T': 32, 'U': 33, 'V': 34, 'W': 35, 'X': 36, 'Y': 37, 'Z': 38, 'a': 39, 'b': 40, 'c': 41, 'd': 42, 'e': 43, 'f': 44, 'g': 45, 'h': 46, 'i': 47, 'j': 48, 'k': 49, 'l': 50, 'm': 51, 'n': 52, 'o': 53, 'p': 54, 'q': 55, 'r': 56, 's': 57, 't': 58, 'u': 59, 'v': 60, 'w': 61, 'x': 62, 'y': 63, 'z': 64}\n"
     ]
    }
   ],
   "source": [
    "char2idx = {char:idx for idx, char in enumerate(vocab)}\n",
    "print(char2idx)"
   ]
  },
  {
   "cell_type": "code",
   "execution_count": 7,
   "metadata": {
    "colab": {
     "base_uri": "https://localhost:8080/",
     "height": 85
    },
    "colab_type": "code",
    "id": "cHBk78OCaAxe",
    "outputId": "cf958593-4241-46de-955f-b480527ce92d"
   },
   "outputs": [
    {
     "name": "stdout",
     "output_type": "stream",
     "text": [
      "['\\n' ' ' '!' '$' '&' \"'\" ',' '-' '.' '3' ':' ';' '?' 'A' 'B' 'C' 'D' 'E'\n",
      " 'F' 'G' 'H' 'I' 'J' 'K' 'L' 'M' 'N' 'O' 'P' 'Q' 'R' 'S' 'T' 'U' 'V' 'W'\n",
      " 'X' 'Y' 'Z' 'a' 'b' 'c' 'd' 'e' 'f' 'g' 'h' 'i' 'j' 'k' 'l' 'm' 'n' 'o'\n",
      " 'p' 'q' 'r' 's' 't' 'u' 'v' 'w' 'x' 'y' 'z']\n"
     ]
    }
   ],
   "source": [
    "idx2char = np.array(vocab)\n",
    "print(idx2char)"
   ]
  },
  {
   "cell_type": "code",
   "execution_count": 8,
   "metadata": {
    "colab": {
     "base_uri": "https://localhost:8080/",
     "height": 68
    },
    "colab_type": "code",
    "id": "XF5gJHiuaAx3",
    "outputId": "42fe7f21-b515-44cb-e15b-078746bc9704"
   },
   "outputs": [
    {
     "name": "stdout",
     "output_type": "stream",
     "text": [
      "[18 47 56 57 58  1 15 47 58 47 64 43 52 10  0 14 43 44 53 56]\n",
      "First Citizen:\n",
      "Befor\n"
     ]
    }
   ],
   "source": [
    "text_as_int = np.array([char2idx[c] for c in text])\n",
    "print(text_as_int[0: 20])\n",
    "print(text[0: 20])"
   ]
  },
  {
   "cell_type": "code",
   "execution_count": 9,
   "metadata": {
    "colab": {
     "base_uri": "https://localhost:8080/",
     "height": 255
    },
    "colab_type": "code",
    "id": "LgHPCeygaAyN",
    "outputId": "3b93a161-729d-42d8-f838-b7904769813e"
   },
   "outputs": [
    {
     "name": "stdout",
     "output_type": "stream",
     "text": [
      "tf.Tensor(18, shape=(), dtype=int32) F\n",
      "tf.Tensor(47, shape=(), dtype=int32) i\n",
      "[18 47 56 57 58  1 15 47 58 47 64 43 52 10  0 14 43 44 53 56 43  1 61 43\n",
      "  1 54 56 53 41 43 43 42  1 39 52 63  1 44 59 56 58 46 43 56  6  1 46 43\n",
      " 39 56  1 51 43  1 57 54 43 39 49  8  0  0 13 50 50 10  0 31 54 43 39 49\n",
      "  6  1 57 54 43 39 49  8  0  0 18 47 56 57 58  1 15 47 58 47 64 43 52 10\n",
      "  0 37 53 59  1]\n",
      "'First Citizen:\\nBefore we proceed any further, hear me speak.\\n\\nAll:\\nSpeak, speak.\\n\\nFirst Citizen:\\nYou '\n",
      "[39 56 43  1 39 50 50  1 56 43 57 53 50 60 43 42  1 56 39 58 46 43 56  1\n",
      " 58 53  1 42 47 43  1 58 46 39 52  1 58 53  1 44 39 51 47 57 46 12  0  0\n",
      " 13 50 50 10  0 30 43 57 53 50 60 43 42  8  1 56 43 57 53 50 60 43 42  8\n",
      "  0  0 18 47 56 57 58  1 15 47 58 47 64 43 52 10  0 18 47 56 57 58  6  1\n",
      " 63 53 59  1 49]\n",
      "'are all resolved rather to die than to famish?\\n\\nAll:\\nResolved. resolved.\\n\\nFirst Citizen:\\nFirst, you k'\n"
     ]
    }
   ],
   "source": [
    "def split_input_target(id_text):\n",
    "    \"\"\"\n",
    "    abcde -> abcd, bcde\n",
    "    \"\"\"\n",
    "    return id_text[0:-1], id_text[1:]\n",
    "\n",
    "char_dataset = tf.data.Dataset.from_tensor_slices(text_as_int)\n",
    "seq_length = 100\n",
    "seq_dataset = char_dataset.batch(seq_length + 1, drop_remainder = True)\n",
    "# drop_reminder = True 如果取到最后长度不够，就丢弃\n",
    "\n",
    "for ch_id in char_dataset.take(2):\n",
    "    print(ch_id, idx2char[ch_id.numpy()])\n",
    "    \n",
    "for seq_id in seq_dataset.take(2):\n",
    "    print(seq_id.numpy())\n",
    "    print(repr(''.join(idx2char[seq_id.numpy()])))"
   ]
  },
  {
   "cell_type": "code",
   "execution_count": 10,
   "metadata": {
    "colab": {
     "base_uri": "https://localhost:8080/",
     "height": 357
    },
    "colab_type": "code",
    "id": "P0DiBTQlaAyS",
    "outputId": "840677c1-49ba-4cae-fa85-ed413a8dc8cd"
   },
   "outputs": [
    {
     "name": "stdout",
     "output_type": "stream",
     "text": [
      "[18 47 56 57 58  1 15 47 58 47 64 43 52 10  0 14 43 44 53 56 43  1 61 43\n",
      "  1 54 56 53 41 43 43 42  1 39 52 63  1 44 59 56 58 46 43 56  6  1 46 43\n",
      " 39 56  1 51 43  1 57 54 43 39 49  8  0  0 13 50 50 10  0 31 54 43 39 49\n",
      "  6  1 57 54 43 39 49  8  0  0 18 47 56 57 58  1 15 47 58 47 64 43 52 10\n",
      "  0 37 53 59]\n",
      "[47 56 57 58  1 15 47 58 47 64 43 52 10  0 14 43 44 53 56 43  1 61 43  1\n",
      " 54 56 53 41 43 43 42  1 39 52 63  1 44 59 56 58 46 43 56  6  1 46 43 39\n",
      " 56  1 51 43  1 57 54 43 39 49  8  0  0 13 50 50 10  0 31 54 43 39 49  6\n",
      "  1 57 54 43 39 49  8  0  0 18 47 56 57 58  1 15 47 58 47 64 43 52 10  0\n",
      " 37 53 59  1]\n",
      "[39 56 43  1 39 50 50  1 56 43 57 53 50 60 43 42  1 56 39 58 46 43 56  1\n",
      " 58 53  1 42 47 43  1 58 46 39 52  1 58 53  1 44 39 51 47 57 46 12  0  0\n",
      " 13 50 50 10  0 30 43 57 53 50 60 43 42  8  1 56 43 57 53 50 60 43 42  8\n",
      "  0  0 18 47 56 57 58  1 15 47 58 47 64 43 52 10  0 18 47 56 57 58  6  1\n",
      " 63 53 59  1]\n",
      "[56 43  1 39 50 50  1 56 43 57 53 50 60 43 42  1 56 39 58 46 43 56  1 58\n",
      " 53  1 42 47 43  1 58 46 39 52  1 58 53  1 44 39 51 47 57 46 12  0  0 13\n",
      " 50 50 10  0 30 43 57 53 50 60 43 42  8  1 56 43 57 53 50 60 43 42  8  0\n",
      "  0 18 47 56 57 58  1 15 47 58 47 64 43 52 10  0 18 47 56 57 58  6  1 63\n",
      " 53 59  1 49]\n"
     ]
    }
   ],
   "source": [
    "seq_dataset = seq_dataset.map(split_input_target)\n",
    "\n",
    "for item_input, item_output in seq_dataset.take(2):\n",
    "    print(item_input.numpy())\n",
    "    print(item_output.numpy())"
   ]
  },
  {
   "cell_type": "code",
   "execution_count": 11,
   "metadata": {
    "colab": {},
    "colab_type": "code",
    "id": "ff2-9bViaAyv"
   },
   "outputs": [],
   "source": [
    "batch_size = 64\n",
    "buffer_size = 10000\n",
    "\n",
    "seq_dataset = seq_dataset.shuffle(buffer_size).batch(batch_size, drop_remainder=True)"
   ]
  },
  {
   "cell_type": "code",
   "execution_count": 12,
   "metadata": {
    "colab": {
     "base_uri": "https://localhost:8080/",
     "height": 255
    },
    "colab_type": "code",
    "id": "8zVe0abjaAyy",
    "outputId": "802ce957-b629-4c30-bbb4-18f7fe93752e"
   },
   "outputs": [
    {
     "name": "stdout",
     "output_type": "stream",
     "text": [
      "Model: \"sequential\"\n",
      "_________________________________________________________________\n",
      "Layer (type)                 Output Shape              Param #   \n",
      "=================================================================\n",
      "embedding (Embedding)        (64, None, 256)           16640     \n",
      "_________________________________________________________________\n",
      "lstm (LSTM)                  (64, None, 1024)          5246976   \n",
      "_________________________________________________________________\n",
      "dense (Dense)                (64, None, 65)            66625     \n",
      "=================================================================\n",
      "Total params: 5,330,241\n",
      "Trainable params: 5,330,241\n",
      "Non-trainable params: 0\n",
      "_________________________________________________________________\n"
     ]
    }
   ],
   "source": [
    "vocab_size = len(vocab)\n",
    "embedding_dim = 256\n",
    "rnn_units = 1024\n",
    "\n",
    "def build_model(vocab_size, embedding_dim, rnn_units, batch_size):\n",
    "    model = keras.Sequential([\n",
    "        keras.layers.Embedding(vocab_size, embedding_dim, batch_input_shape = [batch_size, None]),\n",
    "        keras.layers.LSTM(units = rnn_units,\n",
    "                 stateful = True,     # 如果为True, 批次中索引i的每个样本的最后状态将用作下一个批次中索引i的样本的初始状态。\n",
    "                 recurrent_initializer = 'glorot_uniform',   # recurrent_kernel权重初始化，默认为'orthogonal'\n",
    "                 return_sequences = True\n",
    "        ),\n",
    "        keras.layers.Dense(vocab_size)\n",
    "    ])\n",
    "    return model\n",
    "\n",
    "model = build_model(\n",
    "    vocab_size = vocab_size,\n",
    "    embedding_dim = embedding_dim,\n",
    "    rnn_units = rnn_units,\n",
    "    batch_size = batch_size\n",
    ")\n",
    "\n",
    "model.summary()"
   ]
  },
  {
   "cell_type": "code",
   "execution_count": 11,
   "metadata": {
    "colab": {
     "base_uri": "https://localhost:8080/",
     "height": 34
    },
    "colab_type": "code",
    "id": "xD6GL4-raAzC",
    "outputId": "4c9c05b0-7c47-49ed-dff5-3a10cb7dea78"
   },
   "outputs": [
    {
     "name": "stdout",
     "output_type": "stream",
     "text": [
      "(64, 100, 65)\n"
     ]
    }
   ],
   "source": [
    "for input_example_batch, target_example_batch in seq_dataset.take(1):\n",
    "    example_batch_predictions = model(input_example_batch)\n",
    "    print(example_batch_predictions.shape)"
   ]
  },
  {
   "cell_type": "code",
   "execution_count": 12,
   "metadata": {
    "colab": {
     "base_uri": "https://localhost:8080/",
     "height": 1000
    },
    "colab_type": "code",
    "id": "eXOnpDQtaAzZ",
    "outputId": "a56c3bba-5a4d-4d8d-840f-36739c54bb70"
   },
   "outputs": [
    {
     "name": "stdout",
     "output_type": "stream",
     "text": [
      "tf.Tensor(\n",
      "[[31]\n",
      " [56]\n",
      " [47]\n",
      " [23]\n",
      " [41]\n",
      " [59]\n",
      " [17]\n",
      " [62]\n",
      " [25]\n",
      " [22]\n",
      " [ 5]\n",
      " [62]\n",
      " [ 3]\n",
      " [28]\n",
      " [14]\n",
      " [38]\n",
      " [34]\n",
      " [ 7]\n",
      " [42]\n",
      " [14]\n",
      " [40]\n",
      " [20]\n",
      " [45]\n",
      " [14]\n",
      " [26]\n",
      " [27]\n",
      " [60]\n",
      " [30]\n",
      " [24]\n",
      " [ 6]\n",
      " [42]\n",
      " [41]\n",
      " [17]\n",
      " [64]\n",
      " [24]\n",
      " [41]\n",
      " [44]\n",
      " [13]\n",
      " [47]\n",
      " [36]\n",
      " [25]\n",
      " [ 3]\n",
      " [39]\n",
      " [47]\n",
      " [24]\n",
      " [12]\n",
      " [ 5]\n",
      " [27]\n",
      " [ 8]\n",
      " [32]\n",
      " [29]\n",
      " [26]\n",
      " [37]\n",
      " [59]\n",
      " [34]\n",
      " [47]\n",
      " [15]\n",
      " [52]\n",
      " [60]\n",
      " [31]\n",
      " [26]\n",
      " [15]\n",
      " [17]\n",
      " [30]\n",
      " [ 6]\n",
      " [28]\n",
      " [56]\n",
      " [49]\n",
      " [12]\n",
      " [42]\n",
      " [49]\n",
      " [14]\n",
      " [32]\n",
      " [45]\n",
      " [14]\n",
      " [58]\n",
      " [55]\n",
      " [27]\n",
      " [26]\n",
      " [29]\n",
      " [23]\n",
      " [41]\n",
      " [19]\n",
      " [48]\n",
      " [64]\n",
      " [50]\n",
      " [35]\n",
      " [48]\n",
      " [44]\n",
      " [40]\n",
      " [12]\n",
      " [25]\n",
      " [ 7]\n",
      " [51]\n",
      " [22]\n",
      " [ 9]\n",
      " [12]\n",
      " [31]\n",
      " [44]\n",
      " [44]], shape=(100, 1), dtype=int64)\n",
      "tf.Tensor(\n",
      "[31 56 47 23 41 59 17 62 25 22  5 62  3 28 14 38 34  7 42 14 40 20 45 14\n",
      " 26 27 60 30 24  6 42 41 17 64 24 41 44 13 47 36 25  3 39 47 24 12  5 27\n",
      "  8 32 29 26 37 59 34 47 15 52 60 31 26 15 17 30  6 28 56 49 12 42 49 14\n",
      " 32 45 14 58 55 27 26 29 23 41 19 48 64 50 35 48 44 40 12 25  7 51 22  9\n",
      " 12 31 44 44], shape=(100,), dtype=int64)\n"
     ]
    }
   ],
   "source": [
    "# 随机采样\n",
    "sample_indices = tf.random.categorical(\n",
    "    logits = example_batch_predictions[0], num_samples = 1)\n",
    "print(sample_indices)\n",
    "# (100, 65) -> (100, 1)\n",
    "sample_indices = tf.squeeze(sample_indices, axis = -1)\n",
    "# 降低维度 (100, 1) -> (100, )\n",
    "print(sample_indices)"
   ]
  },
  {
   "cell_type": "code",
   "execution_count": 13,
   "metadata": {
    "colab": {
     "base_uri": "https://localhost:8080/",
     "height": 102
    },
    "colab_type": "code",
    "id": "MH3KY4KNaAzf",
    "outputId": "0dbb65ec-bcad-4e46-aecf-6e94055d3452",
    "scrolled": true
   },
   "outputs": [
    {
     "name": "stdout",
     "output_type": "stream",
     "text": [
      "Input:  'broad?\\n\\nLADY CAPULET:\\nThe people in the street cry Romeo,\\nSome Juliet, and some Paris; and all run,\\n'\n",
      "\n",
      "Output:  'road?\\n\\nLADY CAPULET:\\nThe people in the street cry Romeo,\\nSome Juliet, and some Paris; and all run,\\nW'\n",
      "\n",
      "Predictions:  \"SriKcuExMJ'x$PBZV-dBbHgBNOvRL,dcEzLcfAiXM$aiL?'O.TQNYuViCnvSNCER,Prk?dkBTgBtqONQKcGjzlWjfb?M-mJ3?Sff\"\n"
     ]
    }
   ],
   "source": [
    "# 输出演示\n",
    "print(\"Input: \", repr(\"\".join(idx2char[input_example_batch[0]])))\n",
    "print()\n",
    "print(\"Output: \", repr(\"\".join(idx2char[target_example_batch[0]])))\n",
    "print()\n",
    "print(\"Predictions: \", repr(\"\".join(idx2char[sample_indices])))"
   ]
  },
  {
   "cell_type": "code",
   "execution_count": 18,
   "metadata": {
    "colab": {
     "base_uri": "https://localhost:8080/",
     "height": 51
    },
    "colab_type": "code",
    "id": "_1A4GYT2aAzo",
    "outputId": "61d7aae0-e2a8-4648-89d4-cb8979bdcf5b"
   },
   "outputs": [
    {
     "name": "stdout",
     "output_type": "stream",
     "text": [
      "(64, 100)\n",
      "4.1741858\n"
     ]
    }
   ],
   "source": [
    "# 自定义一个loss\n",
    "def loss(labels, logits):\n",
    "    return keras.losses.sparse_categorical_crossentropy(\n",
    "        labels, logits, from_logits=True)\n",
    "\n",
    "model.compile(optimizer='adam', loss=loss)\n",
    "example_loss = loss(target_example_batch, example_batch_predictions)\n",
    "print(example_loss.shape)\n",
    "print(example_loss.numpy().mean())"
   ]
  },
  {
   "cell_type": "code",
   "execution_count": 19,
   "metadata": {
    "colab": {
     "base_uri": "https://localhost:8080/",
     "height": 1000
    },
    "colab_type": "code",
    "id": "jfEUQv0maAzx",
    "outputId": "18aaaa2b-06dc-4c2d-f0eb-690ef1c31c5c"
   },
   "outputs": [
    {
     "name": "stdout",
     "output_type": "stream",
     "text": [
      "Train for 172 steps\n",
      "Epoch 1/100\n",
      "171/172 [============================>.] - ETA: 0s - loss: 2.5625\n",
      "Epoch 00001: saving model to training_text_generation_2/cp-0001.ckpt\n",
      "172/172 [==============================] - 12s 69ms/step - loss: 2.5597\n",
      "Epoch 2/100\n",
      "171/172 [============================>.] - ETA: 0s - loss: 1.8650\n",
      "Epoch 00002: saving model to training_text_generation_2/cp-0002.ckpt\n",
      "172/172 [==============================] - 11s 63ms/step - loss: 1.8641\n",
      "Epoch 3/100\n",
      "171/172 [============================>.] - ETA: 0s - loss: 1.6182\n",
      "Epoch 00003: saving model to training_text_generation_2/cp-0003.ckpt\n",
      "172/172 [==============================] - 11s 63ms/step - loss: 1.6173\n",
      "Epoch 4/100\n",
      "171/172 [============================>.] - ETA: 0s - loss: 1.4894\n",
      "Epoch 00004: saving model to training_text_generation_2/cp-0004.ckpt\n",
      "172/172 [==============================] - 11s 63ms/step - loss: 1.4892\n",
      "Epoch 5/100\n",
      "171/172 [============================>.] - ETA: 0s - loss: 1.4111\n",
      "Epoch 00005: saving model to training_text_generation_2/cp-0005.ckpt\n",
      "172/172 [==============================] - 11s 63ms/step - loss: 1.4108\n",
      "Epoch 6/100\n",
      "171/172 [============================>.] - ETA: 0s - loss: 1.3546\n",
      "Epoch 00006: saving model to training_text_generation_2/cp-0006.ckpt\n",
      "172/172 [==============================] - 11s 63ms/step - loss: 1.3546\n",
      "Epoch 7/100\n",
      "171/172 [============================>.] - ETA: 0s - loss: 1.3094\n",
      "Epoch 00007: saving model to training_text_generation_2/cp-0007.ckpt\n",
      "172/172 [==============================] - 11s 63ms/step - loss: 1.3094\n",
      "Epoch 8/100\n",
      "171/172 [============================>.] - ETA: 0s - loss: 1.2713\n",
      "Epoch 00008: saving model to training_text_generation_2/cp-0008.ckpt\n",
      "172/172 [==============================] - 11s 63ms/step - loss: 1.2714\n",
      "Epoch 9/100\n",
      "171/172 [============================>.] - ETA: 0s - loss: 1.2326\n",
      "Epoch 00009: saving model to training_text_generation_2/cp-0009.ckpt\n",
      "172/172 [==============================] - 11s 63ms/step - loss: 1.2328\n",
      "Epoch 10/100\n",
      "171/172 [============================>.] - ETA: 0s - loss: 1.1986\n",
      "Epoch 00010: saving model to training_text_generation_2/cp-0010.ckpt\n",
      "172/172 [==============================] - 11s 62ms/step - loss: 1.1986\n",
      "Epoch 11/100\n",
      "171/172 [============================>.] - ETA: 0s - loss: 1.1624\n",
      "Epoch 00011: saving model to training_text_generation_2/cp-0011.ckpt\n",
      "172/172 [==============================] - 11s 63ms/step - loss: 1.1627\n",
      "Epoch 12/100\n",
      "171/172 [============================>.] - ETA: 0s - loss: 1.1243\n",
      "Epoch 00012: saving model to training_text_generation_2/cp-0012.ckpt\n",
      "172/172 [==============================] - 11s 63ms/step - loss: 1.1242\n",
      "Epoch 13/100\n",
      "171/172 [============================>.] - ETA: 0s - loss: 1.0864\n",
      "Epoch 00013: saving model to training_text_generation_2/cp-0013.ckpt\n",
      "172/172 [==============================] - 11s 63ms/step - loss: 1.0863\n",
      "Epoch 14/100\n",
      "171/172 [============================>.] - ETA: 0s - loss: 1.0457\n",
      "Epoch 00014: saving model to training_text_generation_2/cp-0014.ckpt\n",
      "172/172 [==============================] - 11s 63ms/step - loss: 1.0459\n",
      "Epoch 15/100\n",
      "171/172 [============================>.] - ETA: 0s - loss: 1.0050\n",
      "Epoch 00015: saving model to training_text_generation_2/cp-0015.ckpt\n",
      "172/172 [==============================] - 11s 64ms/step - loss: 1.0050\n",
      "Epoch 16/100\n",
      "171/172 [============================>.] - ETA: 0s - loss: 0.9630\n",
      "Epoch 00016: saving model to training_text_generation_2/cp-0016.ckpt\n",
      "172/172 [==============================] - 11s 63ms/step - loss: 0.9632\n",
      "Epoch 17/100\n",
      "171/172 [============================>.] - ETA: 0s - loss: 0.9223\n",
      "Epoch 00017: saving model to training_text_generation_2/cp-0017.ckpt\n",
      "172/172 [==============================] - 11s 63ms/step - loss: 0.9225\n",
      "Epoch 18/100\n",
      "171/172 [============================>.] - ETA: 0s - loss: 0.8816\n",
      "Epoch 00018: saving model to training_text_generation_2/cp-0018.ckpt\n",
      "172/172 [==============================] - 11s 65ms/step - loss: 0.8818\n",
      "Epoch 19/100\n",
      "171/172 [============================>.] - ETA: 0s - loss: 0.8421\n",
      "Epoch 00019: saving model to training_text_generation_2/cp-0019.ckpt\n",
      "172/172 [==============================] - 11s 64ms/step - loss: 0.8423\n",
      "Epoch 20/100\n",
      "171/172 [============================>.] - ETA: 0s - loss: 0.8030\n",
      "Epoch 00020: saving model to training_text_generation_2/cp-0020.ckpt\n",
      "172/172 [==============================] - 11s 63ms/step - loss: 0.8032\n",
      "Epoch 21/100\n",
      "171/172 [============================>.] - ETA: 0s - loss: 0.7695\n",
      "Epoch 00021: saving model to training_text_generation_2/cp-0021.ckpt\n",
      "172/172 [==============================] - 11s 63ms/step - loss: 0.7696\n",
      "Epoch 22/100\n",
      "171/172 [============================>.] - ETA: 0s - loss: 0.7363\n",
      "Epoch 00022: saving model to training_text_generation_2/cp-0022.ckpt\n",
      "172/172 [==============================] - 11s 63ms/step - loss: 0.7365\n",
      "Epoch 23/100\n",
      "171/172 [============================>.] - ETA: 0s - loss: 0.7047\n",
      "Epoch 00023: saving model to training_text_generation_2/cp-0023.ckpt\n",
      "172/172 [==============================] - 11s 63ms/step - loss: 0.7049\n",
      "Epoch 24/100\n",
      "171/172 [============================>.] - ETA: 0s - loss: 0.6770\n",
      "Epoch 00024: saving model to training_text_generation_2/cp-0024.ckpt\n",
      "172/172 [==============================] - 11s 63ms/step - loss: 0.6773\n",
      "Epoch 25/100\n",
      "171/172 [============================>.] - ETA: 0s - loss: 0.6519\n",
      "Epoch 00025: saving model to training_text_generation_2/cp-0025.ckpt\n",
      "172/172 [==============================] - 11s 64ms/step - loss: 0.6522\n",
      "Epoch 26/100\n",
      "171/172 [============================>.] - ETA: 0s - loss: 0.6281\n",
      "Epoch 00026: saving model to training_text_generation_2/cp-0026.ckpt\n",
      "172/172 [==============================] - 11s 64ms/step - loss: 0.6282\n",
      "Epoch 27/100\n",
      "171/172 [============================>.] - ETA: 0s - loss: 0.6084\n",
      "Epoch 00027: saving model to training_text_generation_2/cp-0027.ckpt\n",
      "172/172 [==============================] - 11s 63ms/step - loss: 0.6088\n",
      "Epoch 28/100\n",
      "171/172 [============================>.] - ETA: 0s - loss: 0.5888\n",
      "Epoch 00028: saving model to training_text_generation_2/cp-0028.ckpt\n",
      "172/172 [==============================] - 11s 64ms/step - loss: 0.5891\n",
      "Epoch 29/100\n",
      "171/172 [============================>.] - ETA: 0s - loss: 0.5736\n",
      "Epoch 00029: saving model to training_text_generation_2/cp-0029.ckpt\n",
      "172/172 [==============================] - 11s 64ms/step - loss: 0.5738\n",
      "Epoch 30/100\n",
      "171/172 [============================>.] - ETA: 0s - loss: 0.5575\n",
      "Epoch 00030: saving model to training_text_generation_2/cp-0030.ckpt\n",
      "172/172 [==============================] - 11s 64ms/step - loss: 0.5578\n",
      "Epoch 31/100\n",
      "171/172 [============================>.] - ETA: 0s - loss: 0.5428\n",
      "Epoch 00031: saving model to training_text_generation_2/cp-0031.ckpt\n",
      "172/172 [==============================] - 11s 63ms/step - loss: 0.5431\n",
      "Epoch 32/100\n",
      "171/172 [============================>.] - ETA: 0s - loss: 0.5315\n",
      "Epoch 00032: saving model to training_text_generation_2/cp-0032.ckpt\n",
      "172/172 [==============================] - 11s 63ms/step - loss: 0.5316\n",
      "Epoch 33/100\n",
      "171/172 [============================>.] - ETA: 0s - loss: 0.5193\n",
      "Epoch 00033: saving model to training_text_generation_2/cp-0033.ckpt\n",
      "172/172 [==============================] - 11s 63ms/step - loss: 0.5195\n",
      "Epoch 34/100\n",
      "171/172 [============================>.] - ETA: 0s - loss: 0.5074\n",
      "Epoch 00034: saving model to training_text_generation_2/cp-0034.ckpt\n",
      "172/172 [==============================] - 11s 63ms/step - loss: 0.5077\n",
      "Epoch 35/100\n",
      "171/172 [============================>.] - ETA: 0s - loss: 0.5009\n",
      "Epoch 00035: saving model to training_text_generation_2/cp-0035.ckpt\n",
      "172/172 [==============================] - 11s 63ms/step - loss: 0.5010\n",
      "Epoch 36/100\n",
      "171/172 [============================>.] - ETA: 0s - loss: 0.4929\n",
      "Epoch 00036: saving model to training_text_generation_2/cp-0036.ckpt\n",
      "172/172 [==============================] - 11s 63ms/step - loss: 0.4931\n",
      "Epoch 37/100\n",
      "171/172 [============================>.] - ETA: 0s - loss: 0.4853\n",
      "Epoch 00037: saving model to training_text_generation_2/cp-0037.ckpt\n",
      "172/172 [==============================] - 11s 64ms/step - loss: 0.4856\n",
      "Epoch 38/100\n",
      "171/172 [============================>.] - ETA: 0s - loss: 0.4785\n",
      "Epoch 00038: saving model to training_text_generation_2/cp-0038.ckpt\n",
      "172/172 [==============================] - 11s 63ms/step - loss: 0.4786\n",
      "Epoch 39/100\n",
      "171/172 [============================>.] - ETA: 0s - loss: 0.4713\n",
      "Epoch 00039: saving model to training_text_generation_2/cp-0039.ckpt\n",
      "172/172 [==============================] - 11s 63ms/step - loss: 0.4715\n",
      "Epoch 40/100\n",
      "171/172 [============================>.] - ETA: 0s - loss: 0.4649\n",
      "Epoch 00040: saving model to training_text_generation_2/cp-0040.ckpt\n",
      "172/172 [==============================] - 11s 62ms/step - loss: 0.4652\n",
      "Epoch 41/100\n",
      "171/172 [============================>.] - ETA: 0s - loss: 0.4607\n",
      "Epoch 00041: saving model to training_text_generation_2/cp-0041.ckpt\n",
      "172/172 [==============================] - 11s 63ms/step - loss: 0.4608\n",
      "Epoch 42/100\n",
      "171/172 [============================>.] - ETA: 0s - loss: 0.4554\n",
      "Epoch 00042: saving model to training_text_generation_2/cp-0042.ckpt\n",
      "172/172 [==============================] - 11s 63ms/step - loss: 0.4555\n",
      "Epoch 43/100\n",
      "171/172 [============================>.] - ETA: 0s - loss: 0.4507\n",
      "Epoch 00043: saving model to training_text_generation_2/cp-0043.ckpt\n",
      "172/172 [==============================] - 11s 63ms/step - loss: 0.4510\n",
      "Epoch 44/100\n",
      "171/172 [============================>.] - ETA: 0s - loss: 0.4464\n",
      "Epoch 00044: saving model to training_text_generation_2/cp-0044.ckpt\n",
      "172/172 [==============================] - 11s 62ms/step - loss: 0.4466\n",
      "Epoch 45/100\n",
      "171/172 [============================>.] - ETA: 0s - loss: 0.4439\n",
      "Epoch 00045: saving model to training_text_generation_2/cp-0045.ckpt\n",
      "172/172 [==============================] - 11s 62ms/step - loss: 0.4441\n",
      "Epoch 46/100\n",
      "171/172 [============================>.] - ETA: 0s - loss: 0.4393\n",
      "Epoch 00046: saving model to training_text_generation_2/cp-0046.ckpt\n",
      "172/172 [==============================] - 11s 62ms/step - loss: 0.4394\n",
      "Epoch 47/100\n",
      "171/172 [============================>.] - ETA: 0s - loss: 0.4371\n",
      "Epoch 00047: saving model to training_text_generation_2/cp-0047.ckpt\n",
      "172/172 [==============================] - 11s 62ms/step - loss: 0.4374\n",
      "Epoch 48/100\n",
      "171/172 [============================>.] - ETA: 0s - loss: 0.4357\n",
      "Epoch 00048: saving model to training_text_generation_2/cp-0048.ckpt\n",
      "172/172 [==============================] - 11s 62ms/step - loss: 0.4358\n",
      "Epoch 49/100\n",
      "171/172 [============================>.] - ETA: 0s - loss: 0.4315\n",
      "Epoch 00049: saving model to training_text_generation_2/cp-0049.ckpt\n",
      "172/172 [==============================] - 11s 63ms/step - loss: 0.4315\n",
      "Epoch 50/100\n",
      "171/172 [============================>.] - ETA: 0s - loss: 0.4293\n",
      "Epoch 00050: saving model to training_text_generation_2/cp-0050.ckpt\n",
      "172/172 [==============================] - 11s 63ms/step - loss: 0.4294\n",
      "Epoch 51/100\n",
      "171/172 [============================>.] - ETA: 0s - loss: 0.4288\n",
      "Epoch 00051: saving model to training_text_generation_2/cp-0051.ckpt\n",
      "172/172 [==============================] - 11s 63ms/step - loss: 0.4290\n",
      "Epoch 52/100\n",
      "171/172 [============================>.] - ETA: 0s - loss: 0.4252\n",
      "Epoch 00052: saving model to training_text_generation_2/cp-0052.ckpt\n",
      "172/172 [==============================] - 11s 63ms/step - loss: 0.4253\n",
      "Epoch 53/100\n",
      "171/172 [============================>.] - ETA: 0s - loss: 0.4240\n",
      "Epoch 00053: saving model to training_text_generation_2/cp-0053.ckpt\n",
      "172/172 [==============================] - 11s 63ms/step - loss: 0.4243\n",
      "Epoch 54/100\n",
      "171/172 [============================>.] - ETA: 0s - loss: 0.4190\n",
      "Epoch 00054: saving model to training_text_generation_2/cp-0054.ckpt\n",
      "172/172 [==============================] - 11s 63ms/step - loss: 0.4193\n",
      "Epoch 55/100\n",
      "171/172 [============================>.] - ETA: 0s - loss: 0.4171\n",
      "Epoch 00055: saving model to training_text_generation_2/cp-0055.ckpt\n",
      "172/172 [==============================] - 11s 63ms/step - loss: 0.4172\n",
      "Epoch 56/100\n",
      "171/172 [============================>.] - ETA: 0s - loss: 0.4159\n",
      "Epoch 00056: saving model to training_text_generation_2/cp-0056.ckpt\n",
      "172/172 [==============================] - 11s 63ms/step - loss: 0.4161\n",
      "Epoch 57/100\n",
      "171/172 [============================>.] - ETA: 0s - loss: 0.4155\n",
      "Epoch 00057: saving model to training_text_generation_2/cp-0057.ckpt\n",
      "172/172 [==============================] - 11s 63ms/step - loss: 0.4157\n",
      "Epoch 58/100\n",
      "171/172 [============================>.] - ETA: 0s - loss: 0.4123\n",
      "Epoch 00058: saving model to training_text_generation_2/cp-0058.ckpt\n",
      "172/172 [==============================] - 11s 62ms/step - loss: 0.4126\n",
      "Epoch 59/100\n",
      "171/172 [============================>.] - ETA: 0s - loss: 0.4117\n",
      "Epoch 00059: saving model to training_text_generation_2/cp-0059.ckpt\n",
      "172/172 [==============================] - 11s 63ms/step - loss: 0.4117\n",
      "Epoch 60/100\n",
      "171/172 [============================>.] - ETA: 0s - loss: 0.4132\n",
      "Epoch 00060: saving model to training_text_generation_2/cp-0060.ckpt\n",
      "172/172 [==============================] - 11s 63ms/step - loss: 0.4134\n",
      "Epoch 61/100\n",
      "171/172 [============================>.] - ETA: 0s - loss: 0.4124\n",
      "Epoch 00061: saving model to training_text_generation_2/cp-0061.ckpt\n",
      "172/172 [==============================] - 11s 63ms/step - loss: 0.4126\n",
      "Epoch 62/100\n",
      "171/172 [============================>.] - ETA: 0s - loss: 0.4097\n",
      "Epoch 00062: saving model to training_text_generation_2/cp-0062.ckpt\n",
      "172/172 [==============================] - 11s 63ms/step - loss: 0.4099\n",
      "Epoch 63/100\n",
      "171/172 [============================>.] - ETA: 0s - loss: 0.4084\n",
      "Epoch 00063: saving model to training_text_generation_2/cp-0063.ckpt\n",
      "172/172 [==============================] - 11s 63ms/step - loss: 0.4086\n",
      "Epoch 64/100\n",
      "171/172 [============================>.] - ETA: 0s - loss: 0.4073\n",
      "Epoch 00064: saving model to training_text_generation_2/cp-0064.ckpt\n",
      "172/172 [==============================] - 11s 63ms/step - loss: 0.4074\n",
      "Epoch 65/100\n",
      "171/172 [============================>.] - ETA: 0s - loss: 0.4063\n",
      "Epoch 00065: saving model to training_text_generation_2/cp-0065.ckpt\n",
      "172/172 [==============================] - 11s 65ms/step - loss: 0.4064\n",
      "Epoch 66/100\n",
      "171/172 [============================>.] - ETA: 0s - loss: 0.4038\n",
      "Epoch 00066: saving model to training_text_generation_2/cp-0066.ckpt\n",
      "172/172 [==============================] - 11s 63ms/step - loss: 0.4041\n",
      "Epoch 67/100\n",
      "171/172 [============================>.] - ETA: 0s - loss: 0.4046\n",
      "Epoch 00067: saving model to training_text_generation_2/cp-0067.ckpt\n",
      "172/172 [==============================] - 11s 63ms/step - loss: 0.4047\n",
      "Epoch 68/100\n",
      "171/172 [============================>.] - ETA: 0s - loss: 0.4029\n",
      "Epoch 00068: saving model to training_text_generation_2/cp-0068.ckpt\n",
      "172/172 [==============================] - 11s 63ms/step - loss: 0.4031\n",
      "Epoch 69/100\n",
      "171/172 [============================>.] - ETA: 0s - loss: 0.4029\n",
      "Epoch 00069: saving model to training_text_generation_2/cp-0069.ckpt\n",
      "172/172 [==============================] - 11s 63ms/step - loss: 0.4030\n",
      "Epoch 70/100\n",
      "171/172 [============================>.] - ETA: 0s - loss: 0.4023\n",
      "Epoch 00070: saving model to training_text_generation_2/cp-0070.ckpt\n",
      "172/172 [==============================] - 11s 63ms/step - loss: 0.4024\n",
      "Epoch 71/100\n",
      "171/172 [============================>.] - ETA: 0s - loss: 0.4017\n",
      "Epoch 00071: saving model to training_text_generation_2/cp-0071.ckpt\n",
      "172/172 [==============================] - 11s 63ms/step - loss: 0.4020\n",
      "Epoch 72/100\n",
      "171/172 [============================>.] - ETA: 0s - loss: 0.3998\n",
      "Epoch 00072: saving model to training_text_generation_2/cp-0072.ckpt\n",
      "172/172 [==============================] - 11s 63ms/step - loss: 0.4000\n",
      "Epoch 73/100\n",
      "171/172 [============================>.] - ETA: 0s - loss: 0.3990\n",
      "Epoch 00073: saving model to training_text_generation_2/cp-0073.ckpt\n",
      "172/172 [==============================] - 11s 63ms/step - loss: 0.3993\n",
      "Epoch 74/100\n",
      "171/172 [============================>.] - ETA: 0s - loss: 0.4004\n",
      "Epoch 00074: saving model to training_text_generation_2/cp-0074.ckpt\n",
      "172/172 [==============================] - 11s 63ms/step - loss: 0.4005\n",
      "Epoch 75/100\n",
      "171/172 [============================>.] - ETA: 0s - loss: 0.3974\n",
      "Epoch 00075: saving model to training_text_generation_2/cp-0075.ckpt\n",
      "172/172 [==============================] - 11s 63ms/step - loss: 0.3976\n",
      "Epoch 76/100\n",
      "171/172 [============================>.] - ETA: 0s - loss: 0.3970\n",
      "Epoch 00076: saving model to training_text_generation_2/cp-0076.ckpt\n",
      "172/172 [==============================] - 11s 63ms/step - loss: 0.3971\n",
      "Epoch 77/100\n",
      "171/172 [============================>.] - ETA: 0s - loss: 0.3966\n",
      "Epoch 00077: saving model to training_text_generation_2/cp-0077.ckpt\n",
      "172/172 [==============================] - 11s 63ms/step - loss: 0.3968\n",
      "Epoch 78/100\n",
      "171/172 [============================>.] - ETA: 0s - loss: 0.3976\n",
      "Epoch 00078: saving model to training_text_generation_2/cp-0078.ckpt\n",
      "172/172 [==============================] - 11s 63ms/step - loss: 0.3977\n",
      "Epoch 79/100\n",
      "171/172 [============================>.] - ETA: 0s - loss: 0.3968\n",
      "Epoch 00079: saving model to training_text_generation_2/cp-0079.ckpt\n",
      "172/172 [==============================] - 11s 62ms/step - loss: 0.3969\n",
      "Epoch 80/100\n",
      "171/172 [============================>.] - ETA: 0s - loss: 0.3969\n",
      "Epoch 00080: saving model to training_text_generation_2/cp-0080.ckpt\n",
      "172/172 [==============================] - 11s 62ms/step - loss: 0.3971\n",
      "Epoch 81/100\n",
      "171/172 [============================>.] - ETA: 0s - loss: 0.3957\n",
      "Epoch 00081: saving model to training_text_generation_2/cp-0081.ckpt\n",
      "172/172 [==============================] - 11s 63ms/step - loss: 0.3959\n",
      "Epoch 82/100\n",
      "171/172 [============================>.] - ETA: 0s - loss: 0.3969\n",
      "Epoch 00082: saving model to training_text_generation_2/cp-0082.ckpt\n",
      "172/172 [==============================] - 11s 62ms/step - loss: 0.3970\n",
      "Epoch 83/100\n",
      "171/172 [============================>.] - ETA: 0s - loss: 0.3950\n",
      "Epoch 00083: saving model to training_text_generation_2/cp-0083.ckpt\n",
      "172/172 [==============================] - 11s 63ms/step - loss: 0.3952\n",
      "Epoch 84/100\n",
      "171/172 [============================>.] - ETA: 0s - loss: 0.3954\n",
      "Epoch 00084: saving model to training_text_generation_2/cp-0084.ckpt\n",
      "172/172 [==============================] - 11s 63ms/step - loss: 0.3956\n",
      "Epoch 85/100\n",
      "171/172 [============================>.] - ETA: 0s - loss: 0.3948\n",
      "Epoch 00085: saving model to training_text_generation_2/cp-0085.ckpt\n",
      "172/172 [==============================] - 11s 63ms/step - loss: 0.3949\n",
      "Epoch 86/100\n",
      "171/172 [============================>.] - ETA: 0s - loss: 0.3945\n",
      "Epoch 00086: saving model to training_text_generation_2/cp-0086.ckpt\n",
      "172/172 [==============================] - 11s 63ms/step - loss: 0.3945\n",
      "Epoch 87/100\n",
      "171/172 [============================>.] - ETA: 0s - loss: 0.3955\n",
      "Epoch 00087: saving model to training_text_generation_2/cp-0087.ckpt\n",
      "172/172 [==============================] - 11s 63ms/step - loss: 0.3955\n",
      "Epoch 88/100\n",
      "171/172 [============================>.] - ETA: 0s - loss: 0.3939\n",
      "Epoch 00088: saving model to training_text_generation_2/cp-0088.ckpt\n",
      "172/172 [==============================] - 11s 63ms/step - loss: 0.3941\n",
      "Epoch 89/100\n",
      "171/172 [============================>.] - ETA: 0s - loss: 0.3917\n",
      "Epoch 00089: saving model to training_text_generation_2/cp-0089.ckpt\n",
      "172/172 [==============================] - 11s 62ms/step - loss: 0.3919\n",
      "Epoch 90/100\n",
      "171/172 [============================>.] - ETA: 0s - loss: 0.3941\n",
      "Epoch 00090: saving model to training_text_generation_2/cp-0090.ckpt\n",
      "172/172 [==============================] - 11s 63ms/step - loss: 0.3942\n",
      "Epoch 91/100\n",
      "171/172 [============================>.] - ETA: 0s - loss: 0.3937\n",
      "Epoch 00091: saving model to training_text_generation_2/cp-0091.ckpt\n",
      "172/172 [==============================] - 11s 63ms/step - loss: 0.3936\n",
      "Epoch 92/100\n",
      "171/172 [============================>.] - ETA: 0s - loss: 0.3934\n",
      "Epoch 00092: saving model to training_text_generation_2/cp-0092.ckpt\n",
      "172/172 [==============================] - 11s 63ms/step - loss: 0.3936\n",
      "Epoch 93/100\n",
      "171/172 [============================>.] - ETA: 0s - loss: 0.3908\n",
      "Epoch 00093: saving model to training_text_generation_2/cp-0093.ckpt\n",
      "172/172 [==============================] - 11s 63ms/step - loss: 0.3910\n",
      "Epoch 94/100\n",
      "171/172 [============================>.] - ETA: 0s - loss: 0.3885\n",
      "Epoch 00094: saving model to training_text_generation_2/cp-0094.ckpt\n",
      "172/172 [==============================] - 11s 64ms/step - loss: 0.3887\n",
      "Epoch 95/100\n",
      "171/172 [============================>.] - ETA: 0s - loss: 0.3925\n",
      "Epoch 00095: saving model to training_text_generation_2/cp-0095.ckpt\n",
      "172/172 [==============================] - 11s 63ms/step - loss: 0.3925\n",
      "Epoch 96/100\n",
      "171/172 [============================>.] - ETA: 0s - loss: 0.3966\n",
      "Epoch 00096: saving model to training_text_generation_2/cp-0096.ckpt\n",
      "172/172 [==============================] - 11s 63ms/step - loss: 0.3967\n",
      "Epoch 97/100\n",
      "171/172 [============================>.] - ETA: 0s - loss: 0.3955\n",
      "Epoch 00097: saving model to training_text_generation_2/cp-0097.ckpt\n",
      "172/172 [==============================] - 11s 63ms/step - loss: 0.3957\n",
      "Epoch 98/100\n",
      "171/172 [============================>.] - ETA: 0s - loss: 0.3944\n",
      "Epoch 00098: saving model to training_text_generation_2/cp-0098.ckpt\n",
      "172/172 [==============================] - 11s 63ms/step - loss: 0.3945\n",
      "Epoch 99/100\n",
      "171/172 [============================>.] - ETA: 0s - loss: 0.3950\n",
      "Epoch 00099: saving model to training_text_generation_2/cp-0099.ckpt\n",
      "172/172 [==============================] - 11s 62ms/step - loss: 0.3951\n",
      "Epoch 100/100\n",
      "171/172 [============================>.] - ETA: 0s - loss: 0.3914\n",
      "Epoch 00100: saving model to training_text_generation_2/cp-0100.ckpt\n",
      "172/172 [==============================] - 11s 63ms/step - loss: 0.3915\n"
     ]
    }
   ],
   "source": [
    "checkpoint_path = \"training_text_generation_LSTM_1/cp-{epoch:04d}.ckpt\"\n",
    "checkpoint_dir = os.path.dirname(checkpoint_path)\n",
    "\n",
    "cp_callback_mc = tf.keras.callbacks.ModelCheckpoint(filepath=checkpoint_path,\n",
    "                                                        save_weights_only=True,\n",
    "                                                        #save_best_only=True,\n",
    "                                                        #monitor='val_loss',\n",
    "                                                        mode='min',\n",
    "                                                        verbose=1)\n",
    "latest = tf.train.latest_checkpoint(checkpoint_dir)\n",
    "if(latest != None):\n",
    "    model.load_weights(latest).expect_partial()\n",
    "\n",
    "epochs = 100\n",
    "history = model.fit(seq_dataset, epochs = epochs, callbacks = [cp_callback_mc])"
   ]
  },
  {
   "cell_type": "code",
   "execution_count": 13,
   "metadata": {
    "colab": {
     "base_uri": "https://localhost:8080/",
     "height": 255
    },
    "colab_type": "code",
    "id": "Xp3U-BKYaA0P",
    "outputId": "8d6be586-dae8-4e74-91cf-d6a4f177eb2d"
   },
   "outputs": [
    {
     "name": "stdout",
     "output_type": "stream",
     "text": [
      "Model: \"sequential_1\"\n",
      "_________________________________________________________________\n",
      "Layer (type)                 Output Shape              Param #   \n",
      "=================================================================\n",
      "embedding_1 (Embedding)      (1, None, 256)            16640     \n",
      "_________________________________________________________________\n",
      "lstm_1 (LSTM)                (1, None, 1024)           5246976   \n",
      "_________________________________________________________________\n",
      "dense_1 (Dense)              (1, None, 65)             66625     \n",
      "=================================================================\n",
      "Total params: 5,330,241\n",
      "Trainable params: 5,330,241\n",
      "Non-trainable params: 0\n",
      "_________________________________________________________________\n"
     ]
    }
   ],
   "source": [
    "model2 = build_model(vocab_size, embedding_dim, rnn_units, batch_size = 1)\n",
    "\n",
    "checkpoint_path = \"training_text_generation_LSTM_1/cp-{epoch:04d}.ckpt\"\n",
    "checkpoint_dir = os.path.dirname(checkpoint_path)\n",
    "\n",
    "model2.load_weights(tf.train.latest_checkpoint(checkpoint_dir))\n",
    "model2.build(tf.TensorShape([1, None]))\n",
    "\n",
    "model2.summary()"
   ]
  },
  {
   "cell_type": "code",
   "execution_count": 14,
   "metadata": {
    "colab": {
     "base_uri": "https://localhost:8080/",
     "height": 680
    },
    "colab_type": "code",
    "id": "Op2rgIzFtiV9",
    "outputId": "e831de4f-5caf-4dd7-d6c0-b6e08ac2e7bc"
   },
   "outputs": [
    {
     "name": "stdout",
     "output_type": "stream",
     "text": [
      "All: Queet she do me wrong.\n",
      "\n",
      "ROMEO:\n",
      "Tut, I can tell thee now, sir? this new 'twas murderers ge.\n",
      "\n",
      "KATHARINA:\n",
      "I pray you, let it come to that; proceed.\n",
      "\n",
      "ISABELLA:\n",
      "Inou might have you do well:\n",
      "I have not seen them down to Richmond.\n",
      "\n",
      "BUCKINGHAM:\n",
      "Whenever Buckingham do I thank thee, hope to have a brother's work,\n",
      "That fellow of thy counsel, then, a bawd: a very gross\n",
      "kind on the prompt: I'ld not sound the remedy.\n",
      "\n",
      "First Soldier:\n",
      "For God's sake, let us sit and will not show it.\n",
      "\n",
      "DUKE VINCENTIO:\n",
      "My holy sir,\n",
      "Whom sometimes you did leave to fate the babe,\n",
      "I know not what it is, when me doth go;\n",
      "But let him speak in peace that I should wish them seven:\n",
      "I have thus grievous borne up: by\n",
      "nothing\n",
      "to the house of the world cause me be your favour,\n",
      "Till now have more than any of the people,\n",
      "The tongues o' the common mouth the white rose and the red:\n",
      "Am Claudio less than me; and thou\n",
      "shalt kill the fowl of season: shall we see her one,\n",
      "Without a cause.\n",
      "\n",
      "Lord Marshal:\n",
      "Harry of Herciling liver:\n",
      "The rave be \n"
     ]
    }
   ],
   "source": [
    "# 文本生成流程\n",
    "# start ch sequence A,\n",
    "# A -> model -> b\n",
    "# A.append(b) -> B\n",
    "# B(Ab) -> model -> c\n",
    "# B.append(c) -> C\n",
    "# C(Abc) -> model -> ...\n",
    "\n",
    "def generate_text(model, start_string, num_generate = 1000):\n",
    "    input_eval = [char2idx[ch] for ch in start_string]\n",
    "    input_eval = tf.expand_dims(input_eval, 0)     # 输入的句子(idx格式)\n",
    "    \n",
    "    text_generated = []    # 生成的句子\n",
    "    model.reset_states()\n",
    "    \n",
    "    # temperature > 1, logs 更平滑，输出更随机\n",
    "    # temperature < 1, logs 越陡峭，输出更倾向于最大值\n",
    "    temperature = 0.5\n",
    "    \n",
    "    for _ in range(num_generate):\n",
    "        # 1. model inferrence -> predictions\n",
    "        # 2. sample -> ch -> text_generated\n",
    "        # 3. update input_eval\n",
    "        \n",
    "        # predictions : [batch_size, input_eval_len, vocab_size]\n",
    "        predictions = model(input_eval)\n",
    "        # predictions: logits -> softmax -> prob\n",
    "        # softmax: e^xi\n",
    "        # eg: 4,2 e^4/(e^4 + e^2) = 0.88, e^2 / (e^4 + e^2) = 0.12\n",
    "        # eg: 2,1 e^2/(e^2 + e^1) = 0.73, e / (e^2 + e) = 0.27\n",
    "        predictions = predictions / temperature\n",
    "        # predictions : [input_eval_len, vocab_size]\n",
    "        predictions = tf.squeeze(predictions, 0)\n",
    "        # predicted_ids: [input_eval_len, 1]\n",
    "        # a b c -> b c d\n",
    "        predicted_id = tf.random.categorical(predictions, num_samples = 1)[-1, 0].numpy()\n",
    "        text_generated.append(idx2char[predicted_id])\n",
    "        # s, x -> rnn -> s', y\n",
    "        input_eval = tf.expand_dims([predicted_id], 0)\n",
    "    return start_string + ''.join(text_generated)\n",
    "\n",
    "new_text = generate_text(model2, \"All: \")\n",
    "print(new_text)"
   ]
  },
  {
   "cell_type": "code",
   "execution_count": null,
   "metadata": {},
   "outputs": [],
   "source": []
  }
 ],
 "metadata": {
  "accelerator": "GPU",
  "colab": {
   "collapsed_sections": [],
   "name": "text_generation_LSTM.ipynb",
   "provenance": []
  },
  "kernelspec": {
   "display_name": "Python 3",
   "language": "python",
   "name": "python3"
  },
  "language_info": {
   "codemirror_mode": {
    "name": "ipython",
    "version": 3
   },
   "file_extension": ".py",
   "mimetype": "text/x-python",
   "name": "python",
   "nbconvert_exporter": "python",
   "pygments_lexer": "ipython3",
   "version": "3.7.5"
  }
 },
 "nbformat": 4,
 "nbformat_minor": 1
}

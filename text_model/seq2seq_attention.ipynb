{
 "cells": [
  {
   "cell_type": "code",
   "execution_count": 40,
   "metadata": {},
   "outputs": [],
   "source": [
    "from __future__ import absolute_import, division, print_function, unicode_literals\n",
    "\n",
    "# Install TensorFlow\n",
    "try:\n",
    "  # %tensorflow_version only exists in Colab.\n",
    "  %tensorflow_version 2.x\n",
    "except Exception:\n",
    "  pass\n",
    "\n",
    "import tensorflow as tf\n",
    "import matplotlib.pylab as plt\n",
    "import numpy as np\n",
    "import tensorflow.keras as keras\n",
    "import os\n",
    "import time"
   ]
  },
  {
   "cell_type": "markdown",
   "metadata": {},
   "source": [
    "1. preprocessing data\n",
    "2. build model\n",
    "2.1 encoder\n",
    "2.2 attention\n",
    "2.3 decoder\n",
    "2.4 loss & optimizer\n",
    "2.5 train\n",
    "3. evalution\n",
    "3.1 given sentence, return translated results\n",
    "3.2 visualize results (attention)"
   ]
  },
  {
   "cell_type": "code",
   "execution_count": 13,
   "metadata": {},
   "outputs": [
    {
     "name": "stdout",
     "output_type": "stream",
     "text": [
      "Then what?\n",
      "¿Entonces que?\n"
     ]
    }
   ],
   "source": [
    "en_spa_file_path = './spa.txt'\n",
    "\n",
    "# unicode 转 ascii\n",
    "import unicodedata\n",
    "def unicode_to_ascii(s):\n",
    "    return ''.join(c for c in unicodedata.normalize('NFD', s) if unicodedata.category(c) != 'Mn')\n",
    "\n",
    "en_sequence = 'Then what?'\n",
    "sp_sentence = '¿Entonces qué?'\n",
    "\n",
    "print(unicode_to_ascii(en_sequence))\n",
    "print(unicode_to_ascii(sp_sentence))"
   ]
  },
  {
   "cell_type": "code",
   "execution_count": 5,
   "metadata": {},
   "outputs": [
    {
     "name": "stdout",
     "output_type": "stream",
     "text": [
      "<start> then what ? <end>\n",
      "<start> ¿ entonces que ? <end>\n"
     ]
    }
   ],
   "source": [
    "import re\n",
    "def preprocess_sentence(s):\n",
    "    s = unicode_to_ascii(s.lower().strip())\n",
    "    # 字符串小写并去除头尾空格字符\n",
    "    \n",
    "    s = re.sub(r\"([?.!,¿])\", r\" \\1 \", s)  # 所有标点符号前后加空格\n",
    "    s = re.sub(r'[\" \"]+', \" \", s)   # 空格去重\n",
    "    \n",
    "    s = re.sub(r'[^a-zA-Z?.!,¿]', \" \", s)  # 除了26字母和5个标点符号，其他全部替换成空格\n",
    "    \n",
    "    s = s.rstrip().strip()  # 去掉前后空格\n",
    "    \n",
    "    s = '<start> ' + s + ' <end>'  # 加上 <start> <end> 标记\n",
    "    return s\n",
    "\n",
    "print(preprocess_sentence(en_sequence))\n",
    "print(preprocess_sentence(sp_sentence))"
   ]
  },
  {
   "cell_type": "code",
   "execution_count": 14,
   "metadata": {},
   "outputs": [
    {
     "name": "stdout",
     "output_type": "stream",
     "text": [
      "<start> it may be impossible to get a completely error free corpus due to the nature of this kind of collaborative effort . however , if we encourage members to contribute sentences in their own languages rather than experiment in languages they are learning , we might be able to minimize errors . <end>\n",
      "<start> puede que sea imposible obtener un corpus completamente libre de errores debido a la naturaleza de este tipo de esfuerzo de colaboracion . sin embargo , si animamos a los miembros a contribuir frases en sus propios idiomas en lugar de experimentar con los idiomas que estan aprendiendo , podriamos ser capaces de minimizar los errores . <end>\n"
     ]
    }
   ],
   "source": [
    "def parse_data(filename):\n",
    "    lines = open(filename, encoding='UTF-8').read().strip().split('\\n')\n",
    "    sentence_pairs = [line.split('\\t') for line in lines]\n",
    "    preprocessed_sentence_pairs = [\n",
    "        (preprocess_sentence(en), preprocess_sentence(sp)) for en, sp in sentence_pairs]\n",
    "    return zip(*preprocessed_sentence_pairs)  # 下面演示 zpi(*a) 的用法\n",
    "\n",
    "en_dataset, sp_dataset = parse_data(en_spa_file_path)\n",
    "print(en_dataset[-1])\n",
    "print(sp_dataset[-1])"
   ]
  },
  {
   "cell_type": "code",
   "execution_count": 10,
   "metadata": {},
   "outputs": [
    {
     "name": "stdout",
     "output_type": "stream",
     "text": [
      "(1, 3, 5) (2, 4, 6)\n"
     ]
    }
   ],
   "source": [
    "a = [(1, 2), (3, 4), (5, 6)]\n",
    "c, d = zip(*a)\n",
    "print(c, d)"
   ]
  },
  {
   "cell_type": "code",
   "execution_count": 16,
   "metadata": {},
   "outputs": [
    {
     "name": "stdout",
     "output_type": "stream",
     "text": [
      "16 11\n"
     ]
    }
   ],
   "source": [
    "def tokenizer(lang):\n",
    "    lang_tokenizer = keras.preprocessing.text.Tokenizer(\n",
    "        num_words=None, filters='', split=' ')\n",
    "        # num_words 词表总数，None 不限制\n",
    "        # filter 黑名单\n",
    "        # split 按照 ' ' 空格分割\n",
    "    lang_tokenizer.fit_on_texts(lang)\n",
    "    # 统计词频，生成词表\n",
    "    tensor = lang_tokenizer.texts_to_sequences(lang)  # \n",
    "    tensor = keras.preprocessing.sequence.pad_sequences(tensor, padding='post')\n",
    "    \n",
    "    return tensor, lang_tokenizer\n",
    "\n",
    "input_tensor, input_tokenizer = tokenizer(sp_dataset[0:30000])\n",
    "output_tensor, output_tokenizer = tokenizer(en_dataset[0:30000])\n",
    "\n",
    "def max_length(tensor):\n",
    "    return max(len(t) for t in tensor)\n",
    "\n",
    "max_length_input = max_length(input_tensor)\n",
    "max_length_output = max_length(output_tensor)\n",
    "print(max_length_input, max_length_output)"
   ]
  },
  {
   "cell_type": "code",
   "execution_count": 17,
   "metadata": {},
   "outputs": [
    {
     "data": {
      "text/plain": [
       "(24000, 6000, 24000, 6000)"
      ]
     },
     "execution_count": 17,
     "metadata": {},
     "output_type": "execute_result"
    }
   ],
   "source": [
    "from sklearn.model_selection import train_test_split\n",
    "# 将数据集拆分成训练、验证、测试集\n",
    "input_train, input_eval = train_test_split(input_tensor, test_size=0.2)\n",
    "output_train, output_eval = train_test_split(output_tensor, test_size=0.2)\n",
    "\n",
    "len(input_train), len(input_eval), len(output_train), len(output_eval)"
   ]
  },
  {
   "cell_type": "code",
   "execution_count": 18,
   "metadata": {},
   "outputs": [
    {
     "name": "stdout",
     "output_type": "stream",
     "text": [
      "1 --> <start>\n",
      "135 --> ve\n",
      "10 --> a\n",
      "22 --> por\n",
      "520 --> ello\n",
      "3 --> .\n",
      "2 --> <end>\n",
      "\n",
      "1 --> <start>\n",
      "53 --> how\n",
      "41 --> did\n",
      "6 --> you\n",
      "1104 --> decide\n",
      "7 --> ?\n",
      "2 --> <end>\n",
      "\n"
     ]
    }
   ],
   "source": [
    "# 文本转 id\n",
    "def convert(example, tokenizer):\n",
    "    for t in example:\n",
    "        if t != 0:\n",
    "            print('{:d} --> {:s}'.format(t, tokenizer.index_word[t]))\n",
    "\n",
    "convert(input_train[0], input_tokenizer)\n",
    "print()\n",
    "convert(output_train[0], output_tokenizer)\n",
    "print()"
   ]
  },
  {
   "cell_type": "code",
   "execution_count": 21,
   "metadata": {},
   "outputs": [],
   "source": [
    "def make_dataset(input_tensor, output_tensor, batch_size, epochs, shuffle):\n",
    "    dataset = tf.data.Dataset.from_tensor_slices((input_tensor, output_tensor))\n",
    "    if shuffle:\n",
    "        dataset = dataset.shuffle(30000)\n",
    "    dataset = dataset.repeat(epochs).batch(batch_size, drop_remainder = True)\n",
    "    return dataset\n",
    "\n",
    "batch_size = 64\n",
    "epochs = 20\n",
    "\n",
    "train_dataset = make_dataset(input_train, output_train, batch_size, epochs, True)\n",
    "eval_dataset = make_dataset(input_eval, output_eval, batch_size, 1, False)   "
   ]
  },
  {
   "cell_type": "code",
   "execution_count": 22,
   "metadata": {},
   "outputs": [
    {
     "name": "stdout",
     "output_type": "stream",
     "text": [
      "(64, 16)\n",
      "(64, 11)\n",
      "tf.Tensor(\n",
      "[[   1   78  160 ...    0    0    0]\n",
      " [   1   12  147 ...    0    0    0]\n",
      " [   1   10   25 ...    0    0    0]\n",
      " ...\n",
      " [   1   29   16 ...    0    0    0]\n",
      " [   1    5 2982 ...    0    0    0]\n",
      " [   1   13  141 ...    0    0    0]], shape=(64, 16), dtype=int32)\n",
      "tf.Tensor(\n",
      "[[   1    4 1204   80 1898    3    2    0    0    0    0]\n",
      " [   1    4   65  250   20    3    2    0    0    0    0]\n",
      " [   1    4  257    5  118    6    3    2    0    0    0]\n",
      " [   1   28  103    3    2    0    0    0    0    0    0]\n",
      " [   1   82  268    5  688    7    2    0    0    0    0]\n",
      " [   1   97    4  185    9   25    7    2    0    0    0]\n",
      " [   1   31   13  115   17    3    2    0    0    0    0]\n",
      " [   1   14  238   52   61  188    3    2    0    0    0]\n",
      " [   1   16   38  368  107   39    3    2    0    0    0]\n",
      " [   1    4   96   20   14  145    3    2    0    0    0]\n",
      " [   1    4   47   15   40    9  292    3    2    0    0]\n",
      " [   1  187    8  183    3    2    0    0    0    0    0]\n",
      " [   1    5    8    9 3789    3    2    0    0    0    0]\n",
      " [   1   31   13  347  242    3    2    0    0    0    0]\n",
      " [   1   57  133   39    3    2    0    0    0    0    0]\n",
      " [   1   12  543    8  218    3    2    0    0    0    0]\n",
      " [   1   10   11    9  808    3    2    0    0    0    0]\n",
      " [   1   30   24    6 1171    7    2    0    0    0    0]\n",
      " [   1    6   24  646    3    2    0    0    0    0    0]\n",
      " [   1  115   17    6   77   17    3    2    0    0    0]\n",
      " [   1  122   12  738   37    2    0    0    0    0    0]\n",
      " [   1  351   52   12  110    3    2    0    0    0    0]\n",
      " [   1    4   47    9  159    3    2    0    0    0    0]\n",
      " [   1  266   13   28 3133    7    2    0    0    0    0]\n",
      " [   1   31   13  198   44  602    3    2    0    0    0]\n",
      " [   1    4   38   22   10  259    3    2    0    0    0]\n",
      " [   1    4   76  106    3    2    0    0    0    0    0]\n",
      " [   1 1054   23  126   50    3    2    0    0    0    0]\n",
      " [   1    5  216   12 4861    3    2    0    0    0    0]\n",
      " [   1 1933    3  438   37    2    0    0    0    0    0]\n",
      " [   1 1577   12 2716    3    2    0    0    0    0    0]\n",
      " [   1   31   13  717   55   42    3    2    0    0    0]\n",
      " [   1    6   24    9   69  205    3    2    0    0    0]\n",
      " [   1   54  197   39   49    5    3    2    0    0    0]\n",
      " [   1   14    8  111  608    3    2    0    0    0    0]\n",
      " [   1   12 2232 1402    3    2    0    0    0    0    0]\n",
      " [   1    4   18 4379   44    6    3    2    0    0    0]\n",
      " [   1   19    8  568    3    2    0    0    0    0    0]\n",
      " [   1    4   38  395  118    6    3    2    0    0    0]\n",
      " [   1   82   41    5   22   10    7    2    0    0    0]\n",
      " [   1   16   47   15  368    5    3    2    0    0    0]\n",
      " [   1    4  340  128    3    2    0    0    0    0    0]\n",
      " [   1    4   36   15  178  214    3    2    0    0    0]\n",
      " [   1    5    8 3489    3    2    0    0    0    0    0]\n",
      " [   1    4   18  337  241    3    2    0    0    0    0]\n",
      " [   1    4   18   34  156  105    3    2    0    0    0]\n",
      " [   1   89   33   56    3    2    0    0    0    0    0]\n",
      " [   1   23    6  100    7    2    0    0    0    0    0]\n",
      " [   1    4   96   10   44   12  499    3    2    0    0]\n",
      " [   1    6   43   60   16   23    3    2    0    0    0]\n",
      " [   1    5    8   33   61  160    3    2    0    0    0]\n",
      " [   1    4   63   15   35   91    3    2    0    0    0]\n",
      " [   1   16  626   12  155   50    3    2    0    0    0]\n",
      " [   1   27    8 1537    3    2    0    0    0    0    0]\n",
      " [   1   16   65  239   10  580    3    2    0    0    0]\n",
      " [   1   10    8 1429  105    3    2    0    0    0    0]\n",
      " [   1   45   11   29    9   89    3    2    0    0    0]\n",
      " [   1   14   51  303  117    3    2    0    0    0    0]\n",
      " [   1   16   23   55   88    3    2    0    0    0    0]\n",
      " [   1    5   76  319   55   46    3    2    0    0    0]\n",
      " [   1   19   25   13   40  107    3    2    0    0    0]\n",
      " [   1   23    6    5    7    2    0    0    0    0    0]\n",
      " [   1   29    9  206    3    2    0    0    0    0    0]\n",
      " [   1  121   32  308   93    7    2    0    0    0    0]], shape=(64, 11), dtype=int32)\n"
     ]
    }
   ],
   "source": [
    "for x, y in train_dataset.take(1):\n",
    "    print(x.shape)\n",
    "    print(y.shape)\n",
    "    print(x)\n",
    "    print(y)"
   ]
  },
  {
   "cell_type": "code",
   "execution_count": 23,
   "metadata": {},
   "outputs": [],
   "source": [
    "embedding_units = 256\n",
    "units = 1024\n",
    "input_vocab_size = len(input_tokenizer.word_index) + 1\n",
    "output_vocab_size = len(output_tokenizer.word_index) + 1"
   ]
  },
  {
   "cell_type": "code",
   "execution_count": 25,
   "metadata": {},
   "outputs": [
    {
     "name": "stdout",
     "output_type": "stream",
     "text": [
      "sample_output.shape:  (64, 16, 1024)\n",
      "sample_hidden.shape:  (64, 1024)\n"
     ]
    }
   ],
   "source": [
    "class Encoder(keras.Model):\n",
    "    def __init__(self, vocab_size, embedding_units, encoding_units, batch_size):\n",
    "        super(Encoder, self).__init__()\n",
    "        self.batch_size = batch_size\n",
    "        self.encoding_units = encoding_units\n",
    "        self.embedding = keras.layers.Embedding(vocab_size, embedding_units)\n",
    "        self.gru = keras.layers.GRU(self.encoding_units,\n",
    "                                    return_sequences=True,\n",
    "                                    return_state=True,\n",
    "                                    recurrent_initializer='glorot_uniform')\n",
    "    \n",
    "    def call(self, x, hidden):\n",
    "        x = self.embedding(x)\n",
    "        output, state = self.gru(x, initial_state = hidden)\n",
    "        return output, state\n",
    "    \n",
    "    # 创建一个全是 0 的隐藏层状态\n",
    "    def initializer_hidden_state(self):\n",
    "        return tf.zeros((self.batch_size, self.encoding_units))\n",
    "    \n",
    "encoder = Encoder(input_vocab_size, embedding_units,\n",
    "                  units, batch_size)\n",
    "sample_hidden = encoder.initializer_hidden_state()\n",
    "sample_output, sample_hidden = encoder(x, sample_hidden)\n",
    "\n",
    "print(\"sample_output.shape: \", sample_output.shape)\n",
    "print(\"sample_hidden.shape: \", sample_hidden.shape)"
   ]
  },
  {
   "cell_type": "code",
   "execution_count": 33,
   "metadata": {
    "scrolled": true
   },
   "outputs": [
    {
     "name": "stdout",
     "output_type": "stream",
     "text": [
      "attention_results.shape:  (64, 1024)\n",
      "attention_weights.shape:  (64, 16, 1)\n"
     ]
    }
   ],
   "source": [
    "class BahdanauAttention(keras.Model):\n",
    "    def __init__(self, units):\n",
    "        super(BahdanauAttention, self).__init__()\n",
    "        self.W1 = keras.layers.Dense(units)\n",
    "        self.W2 = keras.layers.Dense(units)\n",
    "        self.V = keras.layers.Dense(1)\n",
    "    \n",
    "    def call(self, decoder_hidden, encoder_outputs):\n",
    "        # decoder_hidden.shape: (batch_size, units)\n",
    "        # encoder_outputs.shape: (batch_size, length, units)\n",
    "        decoder_hidden_with_time_axis = tf.expand_dims(\n",
    "            decoder_hidden, 1)\n",
    "        \n",
    "        # before V : (batch_size, length, units)\n",
    "        # after V : (batch_size, length, 1)\n",
    "        score = self.V(\n",
    "            tf.nn.tanh(\n",
    "                self.W1(encoder_outputs) + self.W2(decoder_hidden_with_time_axis)\n",
    "            )\n",
    "        )\n",
    "        # shape: (batch_size, length, 1)\n",
    "        attention_weights = tf.nn.softmax(score, axis = 1)\n",
    "        \n",
    "        # context_vector.shape: (batch_size, length, units)\n",
    "        context_vector = attention_weights * encoder_outputs\n",
    "        \n",
    "        # context_vector.shape: (batch_size, units)\n",
    "        context_vector = tf.reduce_sum(context_vector, axis = 1)\n",
    "        \n",
    "        return context_vector, attention_weights\n",
    "\n",
    "attention_model = BahdanauAttention(units = 10)\n",
    "attention_results, attention_weights = attention_model(sample_hidden, sample_output)\n",
    "\n",
    "print(\"attention_results.shape: \", attention_results.shape)\n",
    "print(\"attention_weights.shape: \", attention_weights.shape)\n",
    "        "
   ]
  },
  {
   "cell_type": "code",
   "execution_count": 36,
   "metadata": {},
   "outputs": [
    {
     "name": "stdout",
     "output_type": "stream",
     "text": [
      "decoder_output.shape:  (64, 4929)\n",
      "decoder_hidden.shape:  (64, 1024)\n",
      "decoder_attention_weights.shape:  (64, 16, 1)\n"
     ]
    }
   ],
   "source": [
    "class Decoder(keras.Model):\n",
    "    def __init__(self, vocab_size, embedding_dim, decoding_units, batch_size):\n",
    "        super(Decoder, self).__init__()\n",
    "        self.batch_size = batch_size\n",
    "        self.decoding_units = decoding_units\n",
    "        self.embedding = keras.layers.Embedding(vocab_size, embedding_units)\n",
    "        self.gru = keras.layers.GRU(self.decoding_units,\n",
    "                                return_sequences = True,\n",
    "                                return_state = True,\n",
    "                                recurrent_initializer = 'glorot_uniform')\n",
    "        self.fc = keras.layers.Dense(vocab_size)\n",
    "        \n",
    "        # 用于注意力\n",
    "        self.attention = BahdanauAttention(self.decoding_units)\n",
    "        \n",
    "    def call(self, x, hidden, encoding_outputs):\n",
    "        # context_vector.shape: (batch_size, units)\n",
    "        context_vector, attention_weights = self.attention(hidden, encoding_outputs)\n",
    "        \n",
    "        # before embedding: x.shape: (batch_size, 1)\n",
    "        # after embedding: x.shape: (batch_size, 1, embedding_units)\n",
    "        x = self.embedding(x)\n",
    "        \n",
    "        combined_x = tf.concat(\n",
    "            [tf.expand_dims(context_vector, 1), x], axis = -1\n",
    "        )\n",
    "        \n",
    "        # output.shape: [batch_size, 1, decoding_units]\n",
    "        # state.shape: [batch_size, decoding_units]\n",
    "        output, state = self.gru(combined_x)\n",
    "        \n",
    "        # output.shape: [batch_size, decoding_units]\n",
    "        output = tf.squeeze(output, [1])\n",
    "        \n",
    "        # output.shape: [batch_size, vocab_size]\n",
    "        output = self.fc(output)\n",
    "        \n",
    "        return output, state, attention_weights\n",
    "\n",
    "decoder = Decoder(output_vocab_size, embedding_units, units, batch_size)\n",
    "\n",
    "outputs = decoder(tf.random.uniform((batch_size, 1)),\n",
    "                  sample_hidden,\n",
    "                  sample_output)\n",
    "\n",
    "decoder_output, decoder_hidden, decoder_aw = outputs\n",
    "\n",
    "print(\"decoder_output.shape: \", decoder_output.shape)\n",
    "print(\"decoder_hidden.shape: \", decoder_hidden.shape)\n",
    "print(\"decoder_attention_weights.shape: \", decoder_aw.shape)"
   ]
  },
  {
   "cell_type": "markdown",
   "metadata": {},
   "source": [
    "![seq2seq模型结构图](seq2seq.png)"
   ]
  },
  {
   "cell_type": "code",
   "execution_count": 37,
   "metadata": {},
   "outputs": [],
   "source": [
    "optimizer = keras.optimizers.Adam()\n",
    "\n",
    "loss_object = keras.losses.SparseCategoricalCrossentropy(\n",
    "    from_logits = True,\n",
    "    reduction = 'none')\n",
    "\n",
    "def loss_function(real, pred):\n",
    "    mask = tf.math.logical_not(tf.math.equal(real, 0))\n",
    "    # 0 为padding ，设置 mask 对应 0 的部分为 False ，非 0 的部分为 True\n",
    "    loss_ = loss_object(real, pred)\n",
    "    \n",
    "    mask = tf.cast(mask, dtype=loss_.dtype)  # 对 mask 数据类型转换为 loss_ 的数据类型， True -> 1, False -> 0\n",
    "    loss_ *= mask\n",
    "    \n",
    "    return tf.reduce_mean(loss_)   "
   ]
  },
  {
   "cell_type": "code",
   "execution_count": null,
   "metadata": {},
   "outputs": [],
   "source": [
    "checkpoint_dir = './training_checkpoints'\n",
    "checkpoint_prefix = os.path.join(checkpoint_dir, \"ckpt\")\n",
    "checkpoint = tf.train.Checkpoint(optimizer=optimizer,\n",
    "                                 encoder=encoder,\n",
    "                                 decoder=decoder)"
   ]
  },
  {
   "cell_type": "code",
   "execution_count": 44,
   "metadata": {},
   "outputs": [],
   "source": [
    "@tf.function\n",
    "def train_step(input, target, encoding_hidden):\n",
    "    loss = 0\n",
    "    with tf.GradientTape() as tape:\n",
    "        encoding_outputs, encoding_hidden = encoder(input, encoding_hidden)\n",
    "        \n",
    "        decoding_hidden = encoding_hidden\n",
    "        \n",
    "        # eg: <start> I am here <end>\n",
    "        # 1. <start> -> I\n",
    "        # 2. I -> am\n",
    "        # 3. am -> here\n",
    "        # 4. here -> <end>\n",
    "        # 教师强制 - 将目标词作为下一个输入\n",
    "        for t in range(0, target.shape[1] - 1):\n",
    "            decoding_input = tf.expand_dims(target[:, t], 1)\n",
    "            \n",
    "            # 将编码器输出 （enc_output） 传送至解码器\n",
    "            predictions, decoding_hidden, _ = decoder(\n",
    "                decoding_input, decoding_hidden, encoding_outputs)\n",
    "            loss += loss_function(target[:, t+1], predictions)\n",
    "        \n",
    "        batch_loss = loss / int(target.shape[0])   # 不同长度loss叠加次数不同，需要平均\n",
    "        variables = encoder.trainable_variables + decoder.trainable_variables  # 合并需要训练的参数\n",
    "        gradients = tape.gradient(loss, variables)\n",
    "        optimizer.apply_gradients(zip(gradients, variables))\n",
    "        return batch_loss"
   ]
  },
  {
   "cell_type": "code",
   "execution_count": 45,
   "metadata": {},
   "outputs": [
    {
     "name": "stdout",
     "output_type": "stream",
     "text": [
      "Epoch 1 Batch 0 Loss 0.7681\n",
      "Epoch 1 Batch 100 Loss 0.3985\n",
      "Epoch 1 Batch 200 Loss 0.3232\n",
      "Epoch 1 Batch 300 Loss 0.3347\n",
      "Epoch 1 Batch 400 Loss 0.2987\n",
      "Epoch 1 Loss 0.349167\n",
      "Time take for 1 epoch 857.5870106220245 sec\n",
      "\n",
      "Epoch 2 Batch 0 Loss 0.3044\n",
      "Epoch 2 Batch 100 Loss 0.2924\n",
      "Epoch 2 Batch 200 Loss 0.2967\n",
      "Epoch 2 Batch 300 Loss 0.2723\n",
      "Epoch 2 Batch 400 Loss 0.2792\n",
      "Epoch 2 Loss 0.284684\n",
      "Time take for 1 epoch 814.8302602767944 sec\n",
      "\n",
      "Epoch 3 Batch 0 Loss 0.2867\n",
      "Epoch 3 Batch 100 Loss 0.2769\n",
      "Epoch 3 Batch 200 Loss 0.2639\n",
      "Epoch 3 Batch 300 Loss 0.2613\n",
      "Epoch 3 Batch 400 Loss 0.2492\n",
      "Epoch 3 Loss 0.261291\n",
      "Time take for 1 epoch 867.7419862747192 sec\n",
      "\n",
      "Epoch 4 Batch 0 Loss 0.2338\n",
      "Epoch 4 Batch 100 Loss 0.2346\n",
      "Epoch 4 Batch 200 Loss 0.2471\n",
      "Epoch 4 Batch 300 Loss 0.2457\n",
      "Epoch 4 Batch 400 Loss 0.2196\n",
      "Epoch 4 Loss 0.244603\n",
      "Time take for 1 epoch 1007.5364348888397 sec\n",
      "\n",
      "Epoch 5 Batch 0 Loss 0.2414\n",
      "Epoch 5 Batch 100 Loss 0.2284\n",
      "Epoch 5 Batch 200 Loss 0.2451\n",
      "Epoch 5 Batch 300 Loss 0.2353\n",
      "Epoch 5 Batch 400 Loss 0.2243\n",
      "Epoch 5 Loss 0.229562\n",
      "Time take for 1 epoch 1045.6405947208405 sec\n",
      "\n",
      "Epoch 6 Batch 0 Loss 0.2113\n",
      "Epoch 6 Batch 100 Loss 0.2172\n",
      "Epoch 6 Batch 200 Loss 0.2321\n",
      "Epoch 6 Batch 300 Loss 0.2124\n",
      "Epoch 6 Batch 400 Loss 0.1993\n",
      "Epoch 6 Loss 0.212426\n",
      "Time take for 1 epoch 931.3613464832306 sec\n",
      "\n",
      "Epoch 7 Batch 0 Loss 0.2041\n",
      "Epoch 7 Batch 100 Loss 0.1995\n",
      "Epoch 7 Batch 200 Loss 0.2084\n",
      "Epoch 7 Batch 300 Loss 0.2042\n",
      "Epoch 7 Batch 400 Loss 0.1740\n",
      "Epoch 7 Loss 0.193548\n",
      "Time take for 1 epoch 917.3771395683289 sec\n",
      "\n",
      "Epoch 8 Batch 0 Loss 0.1718\n",
      "Epoch 8 Batch 100 Loss 0.1685\n",
      "Epoch 8 Batch 200 Loss 0.1669\n",
      "Epoch 8 Batch 300 Loss 0.1913\n",
      "Epoch 8 Batch 400 Loss 0.1624\n",
      "Epoch 8 Loss 0.173301\n",
      "Time take for 1 epoch 1011.2078220844269 sec\n",
      "\n",
      "Epoch 9 Batch 0 Loss 0.1590\n",
      "Epoch 9 Batch 100 Loss 0.1542\n",
      "Epoch 9 Batch 200 Loss 0.1592\n",
      "Epoch 9 Batch 300 Loss 0.1592\n",
      "Epoch 9 Batch 400 Loss 0.1368\n",
      "Epoch 9 Loss 0.151776\n",
      "Time take for 1 epoch 922.1446855068207 sec\n",
      "\n",
      "Epoch 10 Batch 0 Loss 0.1226\n",
      "Epoch 10 Batch 100 Loss 0.1363\n",
      "Epoch 10 Batch 200 Loss 0.1374\n",
      "Epoch 10 Batch 300 Loss 0.1271\n",
      "Epoch 10 Batch 400 Loss 0.1120\n",
      "Epoch 10 Loss 0.131887\n",
      "Time take for 1 epoch 992.5885016918182 sec\n",
      "\n"
     ]
    }
   ],
   "source": [
    "epochs = 10\n",
    "steps_per_epoch = len(input_tensor) // batch_size\n",
    "\n",
    "last_checkpoint = tf.train.latest_checkpoint(checkpoint_prefix)\n",
    "if(last_checkpoint != None):\n",
    "    checkpoint.restore(last_checkpoint)\n",
    "for epoch in  range(epochs):\n",
    "    start = time.time()\n",
    "    \n",
    "    encoding_hidden = encoder.initializer_hidden_state()\n",
    "    total_loss = 0\n",
    "    \n",
    "    for (batch, (input, target)) in enumerate(train_dataset.take(steps_per_epoch)):\n",
    "        batch_loss = train_step(input, target, encoding_hidden)\n",
    "        total_loss += batch_loss\n",
    "        \n",
    "        if batch % 100 == 0:\n",
    "            print('Epoch {} Batch {} Loss {:.4f}'.format(\n",
    "                epoch + 1, batch, batch_loss.numpy()))\n",
    "    \n",
    "    # 每 2 个周期（epoch），保存（检查点）一次模型\n",
    "    if (epoch + 1) % 2 == 0:\n",
    "        checkpoint.save(file_prefix = checkpoint_prefix)\n",
    "    \n",
    "    print('Epoch {} Loss {:4f}'.format(epoch + 1, total_loss / steps_per_epoch))\n",
    "    print('Time take for 1 epoch {} sec\\n'.format(time.time() - start))"
   ]
  },
  {
   "cell_type": "code",
   "execution_count": 60,
   "metadata": {},
   "outputs": [],
   "source": [
    "encoder.save_weights('seq2seq_encoder.h5')\n",
    "decoder.save_weights('seq2seq_decoder.h5')"
   ]
  },
  {
   "cell_type": "code",
   "execution_count": 56,
   "metadata": {},
   "outputs": [],
   "source": [
    "def evaluate(input_sentence):\n",
    "    attention_matrix = np.zeros((max_length_output, max_length_input))\n",
    "    input_sentence = preprocess_sentence(input_sentence)\n",
    "    \n",
    "    inputs = [input_tokenizer.word_index[token] for token in input_sentence.split(' ')]\n",
    "    inputs = keras.preprocessing.sequence.pad_sequences(\n",
    "        [inputs], maxlen = max_length_input, padding = 'post')\n",
    "    inputs = tf.convert_to_tensor(inputs)\n",
    "    \n",
    "    results = ''\n",
    "    encoding_hidden = tf.zeros((1, units))\n",
    "    \n",
    "    encoding_outputs, encoding_hidden = encoder(inputs, encoding_hidden)\n",
    "    decoding_hidden = encoding_hidden\n",
    "    \n",
    "    # eg: <start> -> A\n",
    "    # A -> B -> C -> D\n",
    "    \n",
    "    # decoding_input.shape: (1, 1)\n",
    "    decoding_input = tf.expand_dims([output_tokenizer.word_index['<start>']], 0)\n",
    "    for  t in range(max_length_output):\n",
    "        predictions, decoding_hidden, attention_weights = decoder(\n",
    "            decoding_input, decoding_hidden, encoding_outputs)\n",
    "        \n",
    "        # attention_weights.shape: (batch_size, input_length, 1) (1, 16, 1)\n",
    "        attention_weights = tf.reshape(attention_weights, (-1,))\n",
    "        attention_matrix[t] = attention_weights.numpy()\n",
    "        \n",
    "        # predictions.shape: (batch_size, vocab_size) (1, 4935)\n",
    "        predicted_id = tf.argmax(predictions[0]).numpy()\n",
    "        \n",
    "        results += output_tokenizer.index_word[predicted_id] + ' '\n",
    "        \n",
    "        if output_tokenizer.index_word[predicted_id] == '<end>':\n",
    "            return results, input_sentence, attention_matrix\n",
    "        \n",
    "        decoding_input =  tf.expand_dims([predicted_id], 0)\n",
    "    return results, input_sentence, attention_matrix\n",
    "\n",
    "def plot_attention(attention_matrix, input_sentence, predicted_sentence):\n",
    "    fig = plt.figure(figsize=(10, 10))\n",
    "    ax = fig.add_subplot(1, 1, 1)\n",
    "    ax.matshow(attention_matrix, cmap='viridis')\n",
    "    \n",
    "    font_dict = {'fontsize': 14}\n",
    "    ax.set_xticklabels([''] + input_sentence, fontdict = font_dict, rotation = 90)\n",
    "    ax.set_yticklabels([''] + predicted_sentence, fontdict = font_dict,)\n",
    "    plt.show()\n",
    "\n",
    "def translate(input_sentence):\n",
    "    results, input_sentence, attention_matrix = evaluate(input_sentence)\n",
    "    \n",
    "    print(\"Input: {}\".format(input_sentence))\n",
    "    print(\"Predicted translation: {}\".format(results))\n",
    "    \n",
    "    attention_matrix = attention_matrix[:len(results.split(' ')),\n",
    "                                        :len(input_sentence.split(' '))]\n",
    "    plot_attention(attention_matrix, input_sentence.split(' '),\n",
    "                   results.split(' '))"
   ]
  },
  {
   "cell_type": "code",
   "execution_count": 57,
   "metadata": {},
   "outputs": [
    {
     "name": "stdout",
     "output_type": "stream",
     "text": [
      "Input: <start> esta muy frio aqui <end>\n",
      "Predicted translation: i m a good boy . <end> \n"
     ]
    },
    {
     "data": {
      "image/png": "[encoded data removed]",
      "text/plain": [
       "<Figure size 720x720 with 1 Axes>"
      ]
     },
     "metadata": {
      "needs_background": "light"
     },
     "output_type": "display_data"
    }
   ],
   "source": [
    "translate(u'Está muy frío aquí')   # 翻译西班牙语 '这里很冷'"
   ]
  },
  {
   "cell_type": "code",
   "execution_count": 59,
   "metadata": {},
   "outputs": [
    {
     "name": "stdout",
     "output_type": "stream",
     "text": [
      "Input: <start> hace frio aqui <end>\n",
      "Predicted translation: i am not my word . <end> \n"
     ]
    },
    {
     "data": {
      "image/png": "[encoded data removed]",
      "text/plain": [
       "<Figure size 720x720 with 1 Axes>"
      ]
     },
     "metadata": {
      "needs_background": "light"
     },
     "output_type": "display_data"
    }
   ],
   "source": [
    "translate(u'hace frío aquí')"
   ]
  },
  {
   "cell_type": "code",
   "execution_count": 62,
   "metadata": {},
   "outputs": [
    {
     "name": "stdout",
     "output_type": "stream",
     "text": [
      "Input: <start> no estoy bien <end>\n",
      "Predicted translation: i m not rich . <end> \n"
     ]
    },
    {
     "data": {
      "image/png": "[encoded data removed]",
      "text/plain": [
       "<Figure size 720x720 with 1 Axes>"
      ]
     },
     "metadata": {
      "needs_background": "light"
     },
     "output_type": "display_data"
    }
   ],
   "source": [
    "translate(u'no estoy bien')"
   ]
  }
 ],
 "metadata": {
  "kernelspec": {
   "display_name": "Python 3",
   "language": "python",
   "name": "python3"
  },
  "language_info": {
   "codemirror_mode": {
    "name": "ipython",
    "version": 3
   },
   "file_extension": ".py",
   "mimetype": "text/x-python",
   "name": "python",
   "nbconvert_exporter": "python",
   "pygments_lexer": "ipython3",
   "version": "3.7.5"
  }
 },
 "nbformat": 4,
 "nbformat_minor": 2
}

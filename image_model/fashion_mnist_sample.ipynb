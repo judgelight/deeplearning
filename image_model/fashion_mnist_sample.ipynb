{
 "cells": [
  {
   "cell_type": "code",
   "execution_count": 43,
   "metadata": {},
   "outputs": [
    {
     "name": "stdout",
     "output_type": "stream",
     "text": [
      "2.0.0\n"
     ]
    }
   ],
   "source": [
    "import tensorflow as tf\n",
    "import numpy as np\n",
    "import os\n",
    "import pandas as pd\n",
    "from matplotlib import pyplot as plt\n",
    "%matplotlib inline\n",
    "print(tf.__version__)"
   ]
  },
  {
   "cell_type": "code",
   "execution_count": 61,
   "metadata": {},
   "outputs": [],
   "source": [
    "fashion_mnist = tf.keras.datasets.fashion_mnist\n",
    "(x_train, y_train), (x_test, y_test) = fashion_mnist.load_data()"
   ]
  },
  {
   "cell_type": "code",
   "execution_count": 62,
   "metadata": {},
   "outputs": [],
   "source": [
    "from sklearn.preprocessing import StandardScaler\n",
    "\n",
    "scaler = StandardScaler()\n",
    "# x_train: [None, 28, 28] -> [None, 784]\n",
    "x_train_scaled = scaler.fit_transform(\n",
    "    x_train.astype(np.float32).reshape(-1, 1)).reshape(-1, 28, 28)\n",
    "x_test_scaled = scaler.fit_transform(\n",
    "    x_test.astype(np.float32).reshape(-1, 1)).reshape(-1, 28, 28)"
   ]
  },
  {
   "cell_type": "code",
   "execution_count": 65,
   "metadata": {},
   "outputs": [],
   "source": [
    "x_train_scaled = tf.expand_dims(x_train_scaled, axis=-1, name=None)\n",
    "x_test_scaled = tf.expand_dims(x_test_scaled, axis=-1, name=None)\n",
    "y_train = tf.constant(y_train)\n",
    "y_test = tf.constant(y_test)"
   ]
  },
  {
   "cell_type": "code",
   "execution_count": 19,
   "metadata": {},
   "outputs": [
    {
     "name": "stdout",
     "output_type": "stream",
     "text": [
      "Train on 60000 samples, validate on 10000 samples\n",
      "Epoch 1/5\n",
      "59744/60000 [============================>.] - ETA: 0s - loss: 2.4786 - accuracy: 0.7282\n",
      "Epoch 00001: val_loss improved from inf to 0.67739, saving model to training_fashion_mnist_3/cp-0001.ckpt\n",
      "60000/60000 [==============================] - 7s 121us/sample - loss: 2.4718 - accuracy: 0.7283 - val_loss: 0.6774 - val_accuracy: 0.7446\n",
      "Epoch 2/5\n",
      "59776/60000 [============================>.] - ETA: 0s - loss: 0.5847 - accuracy: 0.7885\n",
      "Epoch 00002: val_loss improved from 0.67739 to 0.50372, saving model to training_fashion_mnist_3/cp-0002.ckpt\n",
      "60000/60000 [==============================] - 7s 115us/sample - loss: 0.5838 - accuracy: 0.7888 - val_loss: 0.5037 - val_accuracy: 0.8295\n",
      "Epoch 3/5\n",
      "59648/60000 [============================>.] - ETA: 0s - loss: 0.4845 - accuracy: 0.8302\n",
      "Epoch 00003: val_loss improved from 0.50372 to 0.49917, saving model to training_fashion_mnist_3/cp-0003.ckpt\n",
      "60000/60000 [==============================] - 7s 119us/sample - loss: 0.4843 - accuracy: 0.8302 - val_loss: 0.4992 - val_accuracy: 0.8240\n",
      "Epoch 4/5\n",
      "59840/60000 [============================>.] - ETA: 0s - loss: 0.4517 - accuracy: 0.8408\n",
      "Epoch 00004: val_loss improved from 0.49917 to 0.47327, saving model to training_fashion_mnist_3/cp-0004.ckpt\n",
      "60000/60000 [==============================] - 7s 117us/sample - loss: 0.4517 - accuracy: 0.8409 - val_loss: 0.4733 - val_accuracy: 0.8417\n",
      "Epoch 5/5\n",
      "59616/60000 [============================>.] - ETA: 0s - loss: 0.4313 - accuracy: 0.8487\n",
      "Epoch 00005: val_loss improved from 0.47327 to 0.43254, saving model to training_fashion_mnist_3/cp-0005.ckpt\n",
      "60000/60000 [==============================] - 7s 122us/sample - loss: 0.4314 - accuracy: 0.8489 - val_loss: 0.4325 - val_accuracy: 0.8498\n"
     ]
    }
   ],
   "source": [
    "model = tf.keras.Sequential([\n",
    "    tf.keras.layers.Flatten(),\n",
    "    tf.keras.layers.Dense(512, activation=tf.nn.relu),\n",
    "    #tf.keras.layers.Dropout(0.2),\n",
    "    tf.keras.layers.Dense(100, activation=tf.nn.relu),\n",
    "   # tf.keras.layers.Dropout(0.2),\n",
    "    tf.keras.layers.Dense(10, activation=tf.nn.softmax)\n",
    "])\n",
    "\n",
    "model.compile(optimizer=tf.keras.optimizers.Adam(learning_rate=0.001),\n",
    "                    loss=tf.keras.losses.sparse_categorical_crossentropy,\n",
    "                    metrics=['accuracy'])\n",
    "\n",
    "checkpoint_path = \"training_fashion_mnist_3/cp-{epoch:04d}.ckpt\"\n",
    "checkpoint_dir = os.path.dirname(checkpoint_path)\n",
    "\n",
    "cp_callback_mc = tf.keras.callbacks.ModelCheckpoint(filepath=checkpoint_path,\n",
    "                                                        save_weights_only=True,\n",
    "                                                        save_best_only=True,\n",
    "                                                        monitor='val_loss',\n",
    "                                                        mode='min',\n",
    "                                                        verbose=1)\n",
    "latest = tf.train.latest_checkpoint(checkpoint_dir)\n",
    "if(latest != None):\n",
    "    model.load_weights(latest).expect_partial()\n",
    "\n",
    "history = model.fit(\n",
    "         x_train,\n",
    "         y_train,\n",
    "         epochs=5,\n",
    "         verbose=1,\n",
    "         validation_data=(x_test, y_test),\n",
    "         callbacks=[cp_callback_mc]\n",
    "         )"
   ]
  },
  {
   "cell_type": "code",
   "execution_count": 41,
   "metadata": {},
   "outputs": [
    {
     "name": "stdout",
     "output_type": "stream",
     "text": [
      "Model: \"sequential_13\"\n",
      "_________________________________________________________________\n",
      "Layer (type)                 Output Shape              Param #   \n",
      "=================================================================\n",
      "conv2d_18 (Conv2D)           multiple                  320       \n",
      "_________________________________________________________________\n",
      "conv2d_19 (Conv2D)           multiple                  18496     \n",
      "_________________________________________________________________\n",
      "conv2d_20 (Conv2D)           multiple                  73856     \n",
      "_________________________________________________________________\n",
      "flatten_13 (Flatten)         multiple                  0         \n",
      "_________________________________________________________________\n",
      "dense_27 (Dense)             multiple                  20490     \n",
      "=================================================================\n",
      "Total params: 113,162\n",
      "Trainable params: 113,162\n",
      "Non-trainable params: 0\n",
      "_________________________________________________________________\n",
      "Train on 60000 samples, validate on 10000 samples\n",
      "Epoch 1/5\n",
      "59808/60000 [============================>.] - ETA: 0s - loss: 0.4180 - accuracy: 0.8488\n",
      "Epoch 00001: val_loss improved from inf to 0.34079, saving model to training_fashion_mnist_4/cp-0001.ckpt\n",
      "60000/60000 [==============================] - 17s 288us/sample - loss: 0.4178 - accuracy: 0.8489 - val_loss: 0.3408 - val_accuracy: 0.8793\n",
      "Epoch 2/5\n",
      "59776/60000 [============================>.] - ETA: 0s - loss: 0.2813 - accuracy: 0.8987\n",
      "Epoch 00002: val_loss improved from 0.34079 to 0.28959, saving model to training_fashion_mnist_4/cp-0002.ckpt\n",
      "60000/60000 [==============================] - 17s 284us/sample - loss: 0.2814 - accuracy: 0.8987 - val_loss: 0.2896 - val_accuracy: 0.8942\n",
      "Epoch 3/5\n",
      "59872/60000 [============================>.] - ETA: 0s - loss: 0.2349 - accuracy: 0.9130\n",
      "Epoch 00003: val_loss improved from 0.28959 to 0.26717, saving model to training_fashion_mnist_4/cp-0003.ckpt\n",
      "60000/60000 [==============================] - 17s 277us/sample - loss: 0.2348 - accuracy: 0.9130 - val_loss: 0.2672 - val_accuracy: 0.9028\n",
      "Epoch 4/5\n",
      "59840/60000 [============================>.] - ETA: 0s - loss: 0.2023 - accuracy: 0.9259\n",
      "Epoch 00004: val_loss improved from 0.26717 to 0.25635, saving model to training_fashion_mnist_4/cp-0004.ckpt\n",
      "60000/60000 [==============================] - 17s 281us/sample - loss: 0.2021 - accuracy: 0.9259 - val_loss: 0.2563 - val_accuracy: 0.9089\n",
      "Epoch 5/5\n",
      "59840/60000 [============================>.] - ETA: 0s - loss: 0.1748 - accuracy: 0.9373\n",
      "Epoch 00005: val_loss did not improve from 0.25635\n",
      "60000/60000 [==============================] - 17s 280us/sample - loss: 0.1747 - accuracy: 0.9374 - val_loss: 0.2567 - val_accuracy: 0.9129\n"
     ]
    }
   ],
   "source": [
    "def conv2d(size, filters, stride, padding='same', activation=tf.nn.relu):\n",
    "    return tf.keras.layers.Conv2D(\n",
    "        filters = filters,\n",
    "        kernel_size = [size, size],\n",
    "        strides = (stride, stride),\n",
    "        padding = padding,\n",
    "        activation = activation\n",
    "    )\n",
    "\n",
    "model = tf.keras.Sequential([\n",
    "    conv2d(3, 32, 2),\n",
    "    conv2d(3, 64, 2),\n",
    "    conv2d(3, 128, 2),\n",
    "    tf.keras.layers.Flatten(),\n",
    "    tf.keras.layers.Dense(10, activation=tf.nn.softmax)\n",
    "])\n",
    "\n",
    "model.compile(optimizer=tf.keras.optimizers.Adam(learning_rate=0.001),\n",
    "                    loss=tf.keras.losses.sparse_categorical_crossentropy,\n",
    "                    metrics=['accuracy'])\n",
    "\n",
    "checkpoint_path = \"training_fashion_mnist_4/cp-{epoch:04d}.ckpt\"\n",
    "checkpoint_dir = os.path.dirname(checkpoint_path)\n",
    "\n",
    "cp_callback_mc = tf.keras.callbacks.ModelCheckpoint(filepath=checkpoint_path,\n",
    "                                                        save_weights_only=True,\n",
    "                                                        save_best_only=True,\n",
    "                                                        monitor='val_loss',\n",
    "                                                        mode='min',\n",
    "                                                        verbose=1)\n",
    "latest = tf.train.latest_checkpoint(checkpoint_dir)\n",
    "if(latest != None):\n",
    "    model.load_weights(latest).expect_partial()\n",
    "\n",
    "model.build((None, 28, 28, 1))\n",
    "model.summary()\n",
    "history = model.fit(\n",
    "         x_train_scaled,\n",
    "         y_train,\n",
    "         epochs=5,\n",
    "         verbose=1,\n",
    "         validation_data=(x_test_scaled, y_test),\n",
    "         callbacks=[cp_callback_mc]\n",
    "         )"
   ]
  },
  {
   "cell_type": "code",
   "execution_count": 23,
   "metadata": {},
   "outputs": [
    {
     "name": "stdout",
     "output_type": "stream",
     "text": [
      "Train on 60000 samples, validate on 10000 samples\n",
      "Epoch 1/5\n",
      "59488/60000 [============================>.] - ETA: 0s - loss: 0.5996 - accuracy: 0.7805\n",
      "Epoch 00001: val_loss did not improve from 0.43254\n",
      "60000/60000 [==============================] - 7s 118us/sample - loss: 0.5987 - accuracy: 0.7808 - val_loss: 0.5382 - val_accuracy: 0.8038\n",
      "Epoch 2/5\n",
      "59904/60000 [============================>.] - ETA: 0s - loss: 0.4414 - accuracy: 0.8383\n",
      "Epoch 00002: val_loss did not improve from 0.43254\n",
      "60000/60000 [==============================] - 7s 113us/sample - loss: 0.4414 - accuracy: 0.8383 - val_loss: 0.5446 - val_accuracy: 0.8018\n",
      "Epoch 3/5\n",
      "59584/60000 [============================>.] - ETA: 0s - loss: 0.3713 - accuracy: 0.8632\n",
      "Epoch 00003: val_loss did not improve from 0.43254\n",
      "60000/60000 [==============================] - 7s 114us/sample - loss: 0.3715 - accuracy: 0.8631 - val_loss: 0.5337 - val_accuracy: 0.8148\n",
      "Epoch 4/5\n",
      "59680/60000 [============================>.] - ETA: 0s - loss: 0.3051 - accuracy: 0.8889\n",
      "Epoch 00004: val_loss did not improve from 0.43254\n",
      "60000/60000 [==============================] - 7s 113us/sample - loss: 0.3050 - accuracy: 0.8889 - val_loss: 0.5652 - val_accuracy: 0.8161\n",
      "Epoch 5/5\n",
      "59904/60000 [============================>.] - ETA: 0s - loss: 0.2522 - accuracy: 0.9077\n",
      "Epoch 00005: val_loss did not improve from 0.43254\n",
      "60000/60000 [==============================] - 7s 116us/sample - loss: 0.2521 - accuracy: 0.9077 - val_loss: 0.6382 - val_accuracy: 0.8096\n"
     ]
    }
   ],
   "source": [
    "history = model.fit(\n",
    "         x_train_scaled,\n",
    "         y_train,\n",
    "         epochs=5,\n",
    "         verbose=1,\n",
    "         validation_data=(x_test_scaled, y_test),\n",
    "         callbacks=[cp_callback_mc]\n",
    "         )"
   ]
  },
  {
   "cell_type": "code",
   "execution_count": 59,
   "metadata": {},
   "outputs": [
    {
     "name": "stdout",
     "output_type": "stream",
     "text": [
      "Model: \"sequential_20\"\n",
      "_________________________________________________________________\n",
      "Layer (type)                 Output Shape              Param #   \n",
      "=================================================================\n",
      "batch_normalization_24 (Batc (None, 28, 28, 1)         4         \n",
      "_________________________________________________________________\n",
      "conv2d_39 (Conv2D)           (None, 14, 14, 32)        320       \n",
      "_________________________________________________________________\n",
      "batch_normalization_25 (Batc (None, 14, 14, 32)        128       \n",
      "_________________________________________________________________\n",
      "conv2d_40 (Conv2D)           (None, 7, 7, 64)          18496     \n",
      "_________________________________________________________________\n",
      "batch_normalization_26 (Batc (None, 7, 7, 64)          256       \n",
      "_________________________________________________________________\n",
      "conv2d_41 (Conv2D)           (None, 4, 4, 128)         73856     \n",
      "_________________________________________________________________\n",
      "batch_normalization_27 (Batc (None, 4, 4, 128)         512       \n",
      "_________________________________________________________________\n",
      "flatten_20 (Flatten)         (None, 2048)              0         \n",
      "_________________________________________________________________\n",
      "dense_34 (Dense)             (None, 10)                20490     \n",
      "=================================================================\n",
      "Total params: 114,062\n",
      "Trainable params: 113,612\n",
      "Non-trainable params: 450\n",
      "_________________________________________________________________\n",
      "Train on 60000 samples, validate on 10000 samples\n",
      "Epoch 1/5\n",
      "59904/60000 [============================>.] - ETA: 0s - loss: 0.4178 - accuracy: 0.8556\n",
      "Epoch 00001: val_loss improved from inf to 0.35279, saving model to training_fashion_mnist_5/cp-0001.ckpt\n",
      "60000/60000 [==============================] - 37s 611us/sample - loss: 0.4176 - accuracy: 0.8555 - val_loss: 0.3528 - val_accuracy: 0.8724\n",
      "Epoch 2/5\n",
      "59904/60000 [============================>.] - ETA: 0s - loss: 0.2842 - accuracy: 0.8971\n",
      "Epoch 00002: val_loss improved from 0.35279 to 0.29931, saving model to training_fashion_mnist_5/cp-0002.ckpt\n",
      "60000/60000 [==============================] - 36s 598us/sample - loss: 0.2840 - accuracy: 0.8971 - val_loss: 0.2993 - val_accuracy: 0.8961\n",
      "Epoch 3/5\n",
      "59904/60000 [============================>.] - ETA: 0s - loss: 0.2352 - accuracy: 0.9144\n",
      "Epoch 00003: val_loss improved from 0.29931 to 0.29431, saving model to training_fashion_mnist_5/cp-0003.ckpt\n",
      "60000/60000 [==============================] - 35s 586us/sample - loss: 0.2351 - accuracy: 0.9144 - val_loss: 0.2943 - val_accuracy: 0.8958\n",
      "Epoch 4/5\n",
      "59904/60000 [============================>.] - ETA: 0s - loss: 0.2027 - accuracy: 0.9262\n",
      "Epoch 00004: val_loss did not improve from 0.29431\n",
      "60000/60000 [==============================] - 36s 596us/sample - loss: 0.2026 - accuracy: 0.9262 - val_loss: 0.2967 - val_accuracy: 0.8991\n",
      "Epoch 5/5\n",
      "59936/60000 [============================>.] - ETA: 0s - loss: 0.1728 - accuracy: 0.9359\n",
      "Epoch 00005: val_loss improved from 0.29431 to 0.29002, saving model to training_fashion_mnist_5/cp-0005.ckpt\n",
      "60000/60000 [==============================] - 35s 589us/sample - loss: 0.1728 - accuracy: 0.9359 - val_loss: 0.2900 - val_accuracy: 0.9026\n"
     ]
    }
   ],
   "source": [
    "def conv2d(size, filters, stride, padding='same', activation=tf.nn.relu):\n",
    "    return tf.keras.layers.Conv2D(\n",
    "        filters = filters,\n",
    "        kernel_size = [size, size],\n",
    "        strides = (stride, stride),\n",
    "        padding = padding,\n",
    "        activation = activation\n",
    "    )\n",
    "\n",
    "model = tf.keras.Sequential([\n",
    "    tf.keras.layers.InputLayer(input_shape=(28, 28, 1)),\n",
    "    tf.keras.layers.BatchNormalization(),\n",
    "    conv2d(3, 32, 2),\n",
    "    tf.keras.layers.BatchNormalization(),\n",
    "    conv2d(3, 64, 2),\n",
    "    tf.keras.layers.BatchNormalization(),\n",
    "    conv2d(3, 128, 2),\n",
    "    tf.keras.layers.BatchNormalization(),\n",
    "    tf.keras.layers.Flatten(),\n",
    "    tf.keras.layers.Dense(10, activation=tf.nn.softmax)\n",
    "])\n",
    "\n",
    "model.compile(optimizer=tf.keras.optimizers.Adam(learning_rate=0.001),\n",
    "                    loss=tf.keras.losses.sparse_categorical_crossentropy,\n",
    "                    metrics=['accuracy'])\n",
    "\n",
    "checkpoint_path = \"training_fashion_mnist_5/cp-{epoch:04d}.ckpt\"\n",
    "checkpoint_dir = os.path.dirname(checkpoint_path)\n",
    "\n",
    "cp_callback_mc = tf.keras.callbacks.ModelCheckpoint(filepath=checkpoint_path,\n",
    "                                                        save_weights_only=True,\n",
    "                                                        save_best_only=True,\n",
    "                                                        monitor='val_loss',\n",
    "                                                        mode='min',\n",
    "                                                        verbose=1)\n",
    "latest = tf.train.latest_checkpoint(checkpoint_dir)\n",
    "if(latest != None):\n",
    "    model.load_weights(latest).expect_partial()\n",
    "\n",
    "model.build((None, 28, 28, 1))\n",
    "model.summary()\n",
    "history = model.fit(\n",
    "         x_train,\n",
    "         y_train,\n",
    "         epochs=5,\n",
    "         verbose=1,\n",
    "         validation_data=(x_test, y_test),\n",
    "         callbacks=[cp_callback_mc]\n",
    "         )"
   ]
  },
  {
   "cell_type": "code",
   "execution_count": 69,
   "metadata": {},
   "outputs": [
    {
     "name": "stdout",
     "output_type": "stream",
     "text": [
      "Model: \"sequential_26\"\n",
      "_________________________________________________________________\n",
      "Layer (type)                 Output Shape              Param #   \n",
      "=================================================================\n",
      "conv2d_57 (Conv2D)           (None, 14, 14, 32)        320       \n",
      "_________________________________________________________________\n",
      "conv2d_58 (Conv2D)           (None, 7, 7, 64)          18496     \n",
      "_________________________________________________________________\n",
      "conv2d_59 (Conv2D)           (None, 4, 4, 128)         73856     \n",
      "_________________________________________________________________\n",
      "flatten_26 (Flatten)         (None, 2048)              0         \n",
      "_________________________________________________________________\n",
      "dense_40 (Dense)             (None, 10)                20490     \n",
      "=================================================================\n",
      "Total params: 113,162\n",
      "Trainable params: 113,162\n",
      "Non-trainable params: 0\n",
      "_________________________________________________________________\n",
      "Train on 60000 samples, validate on 10000 samples\n",
      "Epoch 1/5\n",
      "59872/60000 [============================>.] - ETA: 0s - loss: 0.5176 - accuracy: 0.8231\n",
      "Epoch 00001: val_loss improved from inf to 0.46597, saving model to training_fashion_mnist_8/cp-0001.ckpt\n",
      "60000/60000 [==============================] - 20s 341us/sample - loss: 0.5179 - accuracy: 0.8231 - val_loss: 0.4660 - val_accuracy: 0.8365\n",
      "Epoch 2/5\n",
      "59872/60000 [============================>.] - ETA: 0s - loss: 0.4211 - accuracy: 0.8538\n",
      "Epoch 00002: val_loss improved from 0.46597 to 0.42377, saving model to training_fashion_mnist_8/cp-0002.ckpt\n",
      "60000/60000 [==============================] - 22s 359us/sample - loss: 0.4208 - accuracy: 0.8539 - val_loss: 0.4238 - val_accuracy: 0.8581\n",
      "Epoch 3/5\n",
      "59936/60000 [============================>.] - ETA: 0s - loss: 0.3881 - accuracy: 0.8638\n",
      "Epoch 00003: val_loss improved from 0.42377 to 0.39921, saving model to training_fashion_mnist_8/cp-0003.ckpt\n",
      "60000/60000 [==============================] - 20s 334us/sample - loss: 0.3879 - accuracy: 0.8638 - val_loss: 0.3992 - val_accuracy: 0.8587\n",
      "Epoch 4/5\n",
      "59968/60000 [============================>.] - ETA: 0s - loss: 0.3630 - accuracy: 0.8730\n",
      "Epoch 00004: val_loss improved from 0.39921 to 0.38734, saving model to training_fashion_mnist_8/cp-0004.ckpt\n",
      "60000/60000 [==============================] - 20s 340us/sample - loss: 0.3630 - accuracy: 0.8731 - val_loss: 0.3873 - val_accuracy: 0.8647\n",
      "Epoch 5/5\n",
      "59968/60000 [============================>.] - ETA: 0s - loss: 0.3425 - accuracy: 0.8798\n",
      "Epoch 00005: val_loss improved from 0.38734 to 0.38214, saving model to training_fashion_mnist_8/cp-0005.ckpt\n",
      "60000/60000 [==============================] - 21s 342us/sample - loss: 0.3424 - accuracy: 0.8798 - val_loss: 0.3821 - val_accuracy: 0.8751\n"
     ]
    }
   ],
   "source": [
    "def conv2d(size, filters, stride, padding='same', activation=tf.nn.relu):\n",
    "    return tf.keras.layers.Conv2D(\n",
    "        filters = filters,\n",
    "        kernel_size = [size, size],\n",
    "        strides = (stride, stride),\n",
    "        padding = padding,\n",
    "        activation = activation,\n",
    "        kernel_initializer='lecun_normal',\n",
    "        bias_initializer='lecun_normal',\n",
    "    )\n",
    "\n",
    "model = tf.keras.Sequential([\n",
    "    tf.keras.layers.InputLayer(input_shape=(28, 28, 1)),\n",
    "    conv2d(3, 32, 2, activation=tf.nn.selu),\n",
    "    conv2d(3, 64, 2, activation=tf.nn.selu),\n",
    "    conv2d(3, 128, 2, activation=tf.nn.selu),\n",
    "    tf.keras.layers.Flatten(),\n",
    "    tf.keras.layers.Dense(10, activation=tf.nn.softmax)\n",
    "])\n",
    "\n",
    "model.compile(optimizer=tf.keras.optimizers.Adam(learning_rate=0.001),\n",
    "                    loss=tf.keras.losses.sparse_categorical_crossentropy,\n",
    "                    metrics=['accuracy'])\n",
    "\n",
    "checkpoint_path = \"training_fashion_mnist_8/cp-{epoch:04d}.ckpt\"\n",
    "checkpoint_dir = os.path.dirname(checkpoint_path)\n",
    "\n",
    "cp_callback_mc = tf.keras.callbacks.ModelCheckpoint(filepath=checkpoint_path,\n",
    "                                                        save_weights_only=True,\n",
    "                                                        save_best_only=True,\n",
    "                                                        monitor='val_loss',\n",
    "                                                        mode='min',\n",
    "                                                        verbose=1)\n",
    "latest = tf.train.latest_checkpoint(checkpoint_dir)\n",
    "if(latest != None):\n",
    "    model.load_weights(latest).expect_partial()\n",
    "\n",
    "model.build((None, 28, 28, 1))\n",
    "model.summary()\n",
    "history = model.fit(\n",
    "         x_train_scaled,\n",
    "         y_train,\n",
    "         epochs=5,\n",
    "         verbose=1,\n",
    "         validation_data=(x_test_scaled, y_test),\n",
    "         callbacks=[cp_callback_mc]\n",
    "         )"
   ]
  },
  {
   "cell_type": "code",
   "execution_count": 79,
   "metadata": {},
   "outputs": [
    {
     "name": "stdout",
     "output_type": "stream",
     "text": [
      "tf.Tensor(7, shape=(), dtype=int64)\n",
      "tf.Tensor(9, shape=(), dtype=uint8)\n",
      "tf.Tensor(2, shape=(), dtype=int64)\n",
      "tf.Tensor(2, shape=(), dtype=uint8)\n",
      "tf.Tensor(1, shape=(), dtype=int64)\n",
      "tf.Tensor(1, shape=(), dtype=uint8)\n",
      "tf.Tensor(1, shape=(), dtype=int64)\n",
      "tf.Tensor(1, shape=(), dtype=uint8)\n",
      "tf.Tensor(6, shape=(), dtype=int64)\n",
      "tf.Tensor(6, shape=(), dtype=uint8)\n",
      "tf.Tensor(1, shape=(), dtype=int64)\n",
      "tf.Tensor(1, shape=(), dtype=uint8)\n",
      "tf.Tensor(4, shape=(), dtype=int64)\n",
      "tf.Tensor(4, shape=(), dtype=uint8)\n",
      "tf.Tensor(6, shape=(), dtype=int64)\n",
      "tf.Tensor(6, shape=(), dtype=uint8)\n",
      "tf.Tensor(5, shape=(), dtype=int64)\n",
      "tf.Tensor(5, shape=(), dtype=uint8)\n",
      "tf.Tensor(7, shape=(), dtype=int64)\n",
      "tf.Tensor(7, shape=(), dtype=uint8)\n"
     ]
    }
   ],
   "source": [
    "y = model.predict(x_test_scaled[0:10])\n",
    "for i in range(10):\n",
    "    print(tf.argmax(y[i]))\n",
    "    print(y_test[i])"
   ]
  },
  {
   "cell_type": "markdown",
   "metadata": {},
   "source": [
    "全连接模型 无归一化"
   ]
  },
  {
   "cell_type": "code",
   "execution_count": 20,
   "metadata": {},
   "outputs": [
    {
     "data": {
      "image/png": "[encoded data removed]",
      "text/plain": [
       "<Figure size 576x360 with 1 Axes>"
      ]
     },
     "metadata": {
      "needs_background": "light"
     },
     "output_type": "display_data"
    }
   ],
   "source": [
    "def plot_learning_curves(history):\n",
    "    pd.DataFrame(history.history).plot(figsize=(8, 5))\n",
    "    plt.grid(True)   #显示网格\n",
    "    plt.gca().set_ylim(0, 1)    #设置y坐标轴范围\n",
    "    plt.show()\n",
    "    \n",
    "plot_learning_curves(history)"
   ]
  },
  {
   "cell_type": "markdown",
   "metadata": {},
   "source": [
    "全连接模型 有归一化"
   ]
  },
  {
   "cell_type": "code",
   "execution_count": 24,
   "metadata": {},
   "outputs": [
    {
     "data": {
      "image/png": "[encoded data removed]",
      "text/plain": [
       "<Figure size 576x360 with 1 Axes>"
      ]
     },
     "metadata": {
      "needs_background": "light"
     },
     "output_type": "display_data"
    }
   ],
   "source": [
    "plot_learning_curves(history)"
   ]
  },
  {
   "cell_type": "markdown",
   "metadata": {},
   "source": [
    "conv模型 bn归一化"
   ]
  },
  {
   "cell_type": "code",
   "execution_count": 60,
   "metadata": {},
   "outputs": [
    {
     "data": {
      "image/png": "[encoded data removed]",
      "text/plain": [
       "<Figure size 576x360 with 1 Axes>"
      ]
     },
     "metadata": {
      "needs_background": "light"
     },
     "output_type": "display_data"
    }
   ],
   "source": [
    "plot_learning_curves(history)"
   ]
  },
  {
   "cell_type": "code",
   "execution_count": null,
   "metadata": {},
   "outputs": [],
   "source": [
    "conv模型 selu激活"
   ]
  },
  {
   "cell_type": "code",
   "execution_count": 70,
   "metadata": {},
   "outputs": [
    {
     "data": {
      "image/png": "[encoded data removed]",
      "text/plain": [
       "<Figure size 576x360 with 1 Axes>"
      ]
     },
     "metadata": {
      "needs_background": "light"
     },
     "output_type": "display_data"
    }
   ],
   "source": [
    "plot_learning_curves(history)"
   ]
  }
 ],
 "metadata": {
  "kernelspec": {
   "display_name": "Python 3",
   "language": "python",
   "name": "python3"
  },
  "language_info": {
   "codemirror_mode": {
    "name": "ipython",
    "version": 3
   },
   "file_extension": ".py",
   "mimetype": "text/x-python",
   "name": "python",
   "nbconvert_exporter": "python",
   "pygments_lexer": "ipython3",
   "version": "3.7.5"
  }
 },
 "nbformat": 4,
 "nbformat_minor": 2
}

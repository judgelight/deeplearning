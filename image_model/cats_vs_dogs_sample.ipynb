{
 "cells": [
  {
   "cell_type": "code",
   "execution_count": 0,
   "metadata": {
    "colab": {},
    "colab_type": "code",
    "id": "qQ-u50RsVnA6"
   },
   "outputs": [],
   "source": [
    "from __future__ import absolute_import, division, print_function, unicode_literals\n",
    "\n",
    "# Install TensorFlow\n",
    "try:\n",
    "  # %tensorflow_version only exists in Colab.\n",
    "  %tensorflow_version 2.x\n",
    "except Exception:\n",
    "  pass\n",
    "\n",
    "import tensorflow as tf\n",
    "from tensorflow import keras\n",
    "import tensorflow_datasets as tfds\n",
    "import tensorflow_hub as hub\n",
    "import numpy as np"
   ]
  },
  {
   "cell_type": "code",
   "execution_count": 0,
   "metadata": {
    "colab": {},
    "colab_type": "code",
    "id": "FzPFiDqTWT5C"
   },
   "outputs": [],
   "source": [
    "dataset = tfds.load(name=\"cats_vs_dogs\", split=tfds.Split.TRAIN, as_supervised=True)\n",
    "\n",
    "IMG_SIZE = 96\n",
    "num_epochs = 5\n",
    "dataset = dataset.map(lambda img, label: (tf.image.resize(img, [IMG_SIZE, IMG_SIZE]) / 255.0, label)).shuffle(12500).batch(32)"
   ]
  },
  {
   "cell_type": "code",
   "execution_count": 0,
   "metadata": {
    "colab": {},
    "colab_type": "code",
    "id": "lV3HoI-qYGu5"
   },
   "outputs": [],
   "source": [
    "def train():   \n",
    "    return model.fit(dataset, epochs=num_epochs, verbose=1)\n",
    "\n",
    "\n",
    "hub_model = hub.KerasLayer('https://tfhub.dev/google/imagenet/mobilenet_v2_050_96/classification/4', input_shape=(IMG_SIZE, IMG_SIZE, 3))\n",
    "model = keras.Sequential([\n",
    "    hub_model,\n",
    "    tf.keras.layers.Dense(2, tf.nn.softmax)\n",
    "])\n",
    "model.compile(optimizer=tf.keras.optimizers.Adam(learning_rate=0.001),\n",
    "                    loss=tf.keras.losses.sparse_categorical_crossentropy,\n",
    "                    metrics=[tf.keras.metrics.sparse_categorical_accuracy])"
   ]
  },
  {
   "cell_type": "code",
   "execution_count": 50,
   "metadata": {
    "colab": {
     "base_uri": "https://localhost:8080/",
     "height": 187
    },
    "colab_type": "code",
    "id": "RliQ_Oe-m0C5",
    "outputId": "d7122f6f-75e3-4ba9-c1ed-00c473fdd2a4"
   },
   "outputs": [
    {
     "name": "stdout",
     "output_type": "stream",
     "text": [
      "Epoch 1/5\n",
      "727/727 [==============================] - 132s 181ms/step - loss: 0.2021 - sparse_categorical_accuracy: 0.9216\n",
      "Epoch 2/5\n",
      "727/727 [==============================] - 127s 175ms/step - loss: 0.1569 - sparse_categorical_accuracy: 0.9405\n",
      "Epoch 3/5\n",
      "727/727 [==============================] - 127s 175ms/step - loss: 0.1540 - sparse_categorical_accuracy: 0.9396\n",
      "Epoch 4/5\n",
      "727/727 [==============================] - 126s 173ms/step - loss: 0.1470 - sparse_categorical_accuracy: 0.9418\n",
      "Epoch 5/5\n",
      "727/727 [==============================] - 127s 174ms/step - loss: 0.1452 - sparse_categorical_accuracy: 0.9424\n"
     ]
    }
   ],
   "source": [
    "history = train()"
   ]
  },
  {
   "cell_type": "code",
   "execution_count": 52,
   "metadata": {
    "colab": {
     "base_uri": "https://localhost:8080/",
     "height": 607
    },
    "colab_type": "code",
    "id": "3GP_XjwaolFK",
    "outputId": "52f183d6-b701-4b62-b3a3-a55e21323e90"
   },
   "outputs": [
    {
     "data": {
      "text/plain": [
       "<Figure size 432x288 with 0 Axes>"
      ]
     },
     "execution_count": 52,
     "metadata": {
      "tags": []
     },
     "output_type": "execute_result"
    },
    {
     "data": {
      "image/png": "[encoded data removed]",
      "text/plain": [
       "<Figure size 432x288 with 1 Axes>"
      ]
     },
     "metadata": {
      "tags": []
     },
     "output_type": "display_data"
    },
    {
     "data": {
      "image/png": "[encoded data removed]",
      "text/plain": [
       "<Figure size 432x288 with 1 Axes>"
      ]
     },
     "metadata": {
      "tags": []
     },
     "output_type": "display_data"
    },
    {
     "data": {
      "text/plain": [
       "<Figure size 432x288 with 0 Axes>"
      ]
     },
     "metadata": {
      "tags": []
     },
     "output_type": "display_data"
    }
   ],
   "source": [
    "from matplotlib import pyplot as plt\n",
    "%matplotlib inline\n",
    "\n",
    "train_loss=history.history['loss']\n",
    "#val_loss=history.history['val_loss']\n",
    "train_acc=history.history['sparse_categorical_accuracy']\n",
    "#val_acc=history.history['val_sparse_categorical_accuracy']\n",
    "\n",
    "epochs = range(len(train_acc))\n",
    "\n",
    "plt.plot(epochs,train_loss,'r', label='train_loss')\n",
    "#plt.plot(epochs,val_loss,'b', label='val_loss')\n",
    "plt.title('train_loss vs val_loss')\n",
    "plt.xlabel('epoch')\n",
    "plt.ylabel('loss')\n",
    "plt.legend()\n",
    "plt.figure()\n",
    "\n",
    "plt.plot(epochs,train_acc,'r', label='train_acc')\n",
    "#plt.plot(epochs,val_acc,'b', label='val_acc')\n",
    "plt.title('train_acc vs val_acc')\n",
    "plt.xlabel('epoch')\n",
    "plt.ylabel('accuracy')\n",
    "plt.legend()\n",
    "plt.figure()"
   ]
  }
 ],
 "metadata": {
  "colab": {
   "collapsed_sections": [],
   "name": "cats_vs_dogs_sample.ipynb",
   "provenance": []
  },
  "kernelspec": {
   "display_name": "Python 3",
   "language": "python",
   "name": "python3"
  },
  "language_info": {
   "codemirror_mode": {
    "name": "ipython",
    "version": 3
   },
   "file_extension": ".py",
   "mimetype": "text/x-python",
   "name": "python",
   "nbconvert_exporter": "python",
   "pygments_lexer": "ipython3",
   "version": "3.7.5"
  }
 },
 "nbformat": 4,
 "nbformat_minor": 1
}

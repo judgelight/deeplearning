{
 "cells": [
  {
   "cell_type": "code",
   "execution_count": 1,
   "metadata": {},
   "outputs": [],
   "source": [
    "from __future__ import absolute_import, division, print_function\n",
    "import matplotlib.pylab as plt\n",
    "import numpy as np\n",
    "import tensorflow as tf\n",
    "import os"
   ]
  },
  {
   "cell_type": "code",
   "execution_count": null,
   "metadata": {},
   "outputs": [],
   "source": [
    "class_names = [\n",
    "    'airplane',\n",
    "    'automobile',\n",
    "    'bird',\n",
    "    'cat',\n",
    "    'deer',\n",
    "    'dog',\n",
    "    'frog',\n",
    "    'horse',\n",
    "    'ship',\n",
    "    'truck',\n",
    "]\n",
    "\n",
    "train_lables_file = './cifar10/trainLabels.csv'\n",
    "test_csv_file = './cifar10/sampleSubmission.csv'\n",
    "train_folder = './cifar10/train'\n",
    "test_folder = './cifar10/test'\n",
    "\n",
    "def parse_csv_file(filepath, folder):\n",
    "    \"\"\"Parses csv files into (filename(path), label) format\"\"\"\n",
    "    results = []\n",
    "    with open(filepath, 'r') as f:\n",
    "        lines = f.readlines()\n",
    "    for line in lines:\n",
    "        image_id, label_str = line.strip('\\n').split(',')\n",
    "        image_full_path = os.path.join(folder, image_id + '.png')\n",
    "        results.append((image_full_path, label_str))\n",
    "        return results\n",
    "\n",
    "train_lables_info = parse_csv_file(train_lables_file, train_folder)\n",
    "test_csv_info = parse_csv_file(test_csv_file, test_folder)\n",
    "\n",
    "import pprint\n",
    "pprint.pprint(train_lables_info[0:5])\n",
    "pprint.pprint(test_csv_info[0:5])\n",
    "print(len(train_lables_info), len(test_csv_info))"
   ]
  },
  {
   "cell_type": "code",
   "execution_count": null,
   "metadata": {},
   "outputs": [],
   "source": [
    "#train_df = pd.DataFrame(train_labels_info)\n",
    "train_df = pd.DataFrame(train_labels_info[0:45000])\n",
    "valid_df = pd.DataFrame(train_labels_info[45000:])\n",
    "test_df = pd.DataFrame(test_csv_info)\n",
    "\n",
    "train_df.columns = ['filepath', 'class']\n",
    "valid_df.columns = ['filepath', 'class']\n",
    "test_df.columns = ['filepath', 'class']\n",
    "\n",
    "print(train_df.head())\n",
    "print(valid_df.head())\n",
    "print(test_df.head())"
   ]
  },
  {
   "cell_type": "code",
   "execution_count": null,
   "metadata": {},
   "outputs": [],
   "source": [
    "height = 32\n",
    "width = 32\n",
    "channels = 3\n",
    "batch_size = 64\n",
    "num_classes = 10\n",
    "\n",
    "train_datagen = tf.keras.preprocessing.image.ImageDataGenerator(\n",
    "    rescale = 1./255,        # 图片像素点乘以 1/255\n",
    "    rotation_range = 40,     # 任意旋转角度\n",
    "    width_shift_range = 0.2, # 水平位移，小于1为 % ，大于1为像素点\n",
    "    height_shift_range= 0.2, # 高度位移，小于1为 % ，大于1为像素点\n",
    "    shear_range = 0.2,       # 剪切强度\n",
    "    zoom_range = 0.2,        # 缩放强度\n",
    "    horizontal_flip = True,  # 是否水平翻转\n",
    "    fill_mode = 'nearest',   # 填充像素规则\n",
    ")\n",
    "\n",
    "train_generator = train_datagen.flow_from_dataframe(\n",
    "        train_df,            # 含有标签列表的datafarame\n",
    "        directory = './',    # 训练数据所在路径\n",
    "        x_col = 'filepath'\n",
    "        y_col = 'class',\n",
    "        classes = class_names,\n",
    "        target_size=(height, width),\n",
    "        batch_size=batch_size,\n",
    "        seed = 7,   # 随机数\n",
    "        shuffle = True, # 是否混淆\n",
    "        class_mode = 'sparse')\n",
    "\n",
    "valid_datagen = tf.keras.preprocessing.image.ImageDataGenerator(rescale = 1./255)\n",
    "valid_generator = train_datagen.flow_from_dataframe(\n",
    "        valid_df,\n",
    "        directory = './',\n",
    "        x_col = 'filepath'\n",
    "        y_col = 'class',\n",
    "        classes = class_names,\n",
    "        target_size=(height, width),\n",
    "        batch_size=batch_size,\n",
    "        seed = 7,   # 随机数\n",
    "        shuffle = True, # 是否混淆\n",
    "        class_mode = 'sparse')"
   ]
  },
  {
   "cell_type": "code",
   "execution_count": null,
   "metadata": {},
   "outputs": [],
   "source": [
    "train_num = train_generator.samples\n",
    "valid_num = valid_generator.samples\n",
    "print(train_num, valid_num)"
   ]
  },
  {
   "cell_type": "code",
   "execution_count": null,
   "metadata": {},
   "outputs": [],
   "source": [
    "# 从 generator 中取数据\n",
    "for _ in range(2):\n",
    "    x, y = train_generator.next()\n",
    "    print(x.shape, y.shape)\n",
    "    print(y)"
   ]
  },
  {
   "cell_type": "code",
   "execution_count": null,
   "metadata": {},
   "outputs": [],
   "source": [
    "model = tf.keras.Sequential([\n",
    "    tf.keras.layers.Conv2D(128, 3, padding='same', activation='relu', input_shape=[width, height, channels],\n",
    "                        kernel_initializer='lecun_normal',\n",
    "                        bias_initializer='lecun_normal',),\n",
    "    tf.keras.layers.BatchNormalization(),\n",
    "    tf.keras.layers.Conv2D(128, 3, padding='same', activation='relu',\n",
    "                        kernel_initializer='lecun_normal',\n",
    "                        bias_initializer='lecun_normal',),\n",
    "    tf.keras.layers.BatchNormalization(),\n",
    "    tf.keras.layers.MaxPool2D(pool_size=2),\n",
    "    \n",
    "    tf.keras.layers.Conv2D(256, 3, padding='same', activation='relu',\n",
    "                        kernel_initializer='lecun_normal',\n",
    "                        bias_initializer='lecun_normal',),\n",
    "    tf.keras.layers.BatchNormalization(),\n",
    "    tf.keras.layers.Conv2D(256, 3, padding='same', activation='relu',\n",
    "                        kernel_initializer='lecun_normal',\n",
    "                        bias_initializer='lecun_normal',),\n",
    "    tf.keras.layers.BatchNormalization(),\n",
    "    tf.keras.layers.MaxPool2D(pool_size=2),\n",
    "    \n",
    "    tf.keras.layers.Conv2D(512, 3, padding='same', activation='relu',\n",
    "                        kernel_initializer='lecun_normal',\n",
    "                        bias_initializer='lecun_normal',),\n",
    "    tf.keras.layers.BatchNormalization(),\n",
    "    tf.keras.layers.Conv2D(512, 3, padding='same', activation='relu',\n",
    "                        kernel_initializer='lecun_normal',\n",
    "                        bias_initializer='lecun_normal',),\n",
    "    tf.keras.layers.BatchNormalization(),\n",
    "    tf.keras.layers.MaxPool2D(pool_size=2),\n",
    "    \n",
    "    tf.keras.layers.Flatten(),\n",
    "    tf.keras.layers.Dense(128, activation='relu'),\n",
    "    tf.keras.layers.Dense(10, activation='softmax'),\n",
    "])\n",
    "\n",
    "model.compile(optimizer=tf.keras.optimizers.Adam(learning_rate=0.001),\n",
    "                    loss=tf.keras.losses.sparse_categorical_crossentropy,\n",
    "                    metrics=['accuracy'])\n",
    "\n",
    "model.summary()"
   ]
  },
  {
   "cell_type": "code",
   "execution_count": null,
   "metadata": {},
   "outputs": [],
   "source": [
    "epochs = 30\n",
    "history = model.fit_generator(train_generator,\n",
    "                             steps_per_epoch = train_num // batch_size,\n",
    "                             epochs = epochs,\n",
    "                             validation_data = valid_generator,\n",
    "                             validation_steps = valid_num // batch_size)"
   ]
  },
  {
   "cell_type": "code",
   "execution_count": null,
   "metadata": {},
   "outputs": [],
   "source": [
    "from matplotlib import pyplot as plt\n",
    "def plot_learning_curves_acc(history, y_min=0, y_max=1):\n",
    "    data = {}\n",
    "    for label in history.history.keys():\n",
    "        if 'acc' in label:\n",
    "            data[label] = history.history[label]\n",
    "    pd.DataFrame(data).plot(figsize=(8, 5))\n",
    "    plt.grid(True)\n",
    "    plt.gca().set_ylim(y_min, y_max)\n",
    "    plt.show()\n",
    "\n",
    "\n",
    "def plot_learning_curves_loss(history, y_min=0, y_max=1):\n",
    "    data = {}\n",
    "    for label in history.history.keys():\n",
    "        if 'loss' in label:\n",
    "            data[label] = history.history[label]\n",
    "    pd.DataFrame(data).plot(figsize=(8, 5))\n",
    "    plt.grid(True)\n",
    "    plt.gca().set_ylim(y_min, y_max)\n",
    "    plt.show()\n",
    "    \n",
    "%matplotlib inline\n",
    "\n",
    "plot_learning_curves_acc(history)\n",
    "plot_learning_curves_loss(history, 0, 3)"
   ]
  },
  {
   "cell_type": "code",
   "execution_count": null,
   "metadata": {},
   "outputs": [],
   "source": [
    "test_datagen = tf.keras.preprocessing.image.ImageDataGenerator(rescale = 1./255)\n",
    "test_generator = train_datagen.flow_from_dataframe(\n",
    "        test_df,\n",
    "        directory = './',\n",
    "        x_col = 'filepath'\n",
    "        y_col = 'class',\n",
    "        classes = class_names,\n",
    "        target_size=(height, width),\n",
    "        batch_size=batch_size,\n",
    "        seed = 7,   # 随机数\n",
    "        shuffle = True, # 是否混淆\n",
    "        class_mode = 'sparse')"
   ]
  },
  {
   "cell_type": "code",
   "execution_count": null,
   "metadata": {},
   "outputs": [],
   "source": [
    "test_predict = model.predict_generator(test_generator,\n",
    "                                        workers = 10,    # 并行度\n",
    "                                        use_multiprocessing = True)   # True 分10个进程做并行化，False 分10个线程做并行化"
   ]
  },
  {
   "cell_type": "code",
   "execution_count": null,
   "metadata": {},
   "outputs": [],
   "source": [
    "print(test_predict.shape)"
   ]
  },
  {
   "cell_type": "code",
   "execution_count": null,
   "metadata": {},
   "outputs": [],
   "source": [
    "print(test_predict[0:5])"
   ]
  },
  {
   "cell_type": "code",
   "execution_count": null,
   "metadata": {},
   "outputs": [],
   "source": [
    "test_predict_class_indices = np.argmax(test_predict, axis = 1)\n",
    "print(test_predict_class_indices)"
   ]
  },
  {
   "cell_type": "code",
   "execution_count": null,
   "metadata": {},
   "outputs": [],
   "source": [
    "test_predict_class = [class_names[index]\n",
    "                      for index in test_predict_class_indices]\n",
    "print(test_predict_class[0:5])"
   ]
  },
  {
   "cell_type": "code",
   "execution_count": null,
   "metadata": {},
   "outputs": [],
   "source": [
    "def generate_submissions(filename, predict_class):\n",
    "    with open(filename, 'w') as f:\n",
    "        f.write('id, label\\n')\n",
    "        for i in range(len(predict_class)):\n",
    "            f.write('{:d},{}\\n'.format(i+1, predict_clas[i]))\n",
    "\n",
    "output_file = \"./cifar10/submission.csv\"\n",
    "generate_submissions(output_file, test_predict_class)"
   ]
  }
 ],
 "metadata": {
  "kernelspec": {
   "display_name": "Python 3",
   "language": "python",
   "name": "python3"
  },
  "language_info": {
   "codemirror_mode": {
    "name": "ipython",
    "version": 3
   },
   "file_extension": ".py",
   "mimetype": "text/x-python",
   "name": "python",
   "nbconvert_exporter": "python",
   "pygments_lexer": "ipython3",
   "version": "3.7.5"
  }
 },
 "nbformat": 4,
 "nbformat_minor": 2
}
